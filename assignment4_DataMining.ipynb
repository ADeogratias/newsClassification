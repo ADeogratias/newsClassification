{
  "nbformat": 4,
  "nbformat_minor": 0,
  "metadata": {
    "colab": {
      "name": "assignment4-DataMining.ipynb",
      "provenance": [],
      "include_colab_link": true
    },
    "kernelspec": {
      "display_name": "Python 3",
      "name": "python3"
    },
    "language_info": {
      "name": "python"
    }
  },
  "cells": [
    {
      "cell_type": "markdown",
      "metadata": {
        "id": "view-in-github",
        "colab_type": "text"
      },
      "source": [
        "<a href=\"https://colab.research.google.com/github/ADeogratias/newsClassification/blob/main/assignment4_DataMining.ipynb\" target=\"_parent\"><img src=\"https://colab.research.google.com/assets/colab-badge.svg\" alt=\"Open In Colab\"/></a>"
      ]
    },
    {
      "cell_type": "code",
      "metadata": {
        "colab": {
          "base_uri": "https://localhost:8080/"
        },
        "id": "6TuWvhTUC6w0",
        "outputId": "5d20af26-87a3-444a-8ede-46d48ea05b68"
      },
      "source": [
        "from google.colab import drive\n",
        "drive.mount('/content/gdrive')"
      ],
      "execution_count": 2,
      "outputs": [
        {
          "output_type": "stream",
          "text": [
            "Drive already mounted at /content/gdrive; to attempt to forcibly remount, call drive.mount(\"/content/gdrive\", force_remount=True).\n"
          ],
          "name": "stdout"
        }
      ]
    },
    {
      "cell_type": "code",
      "metadata": {
        "colab": {
          "base_uri": "https://localhost:8080/"
        },
        "id": "lzkYQQBPDKUM",
        "outputId": "80a24e3c-a185-4baa-f7f3-c403db4a0414"
      },
      "source": [
        "%cd \"/content/gdrive/My Drive/datamining-classactivity/assignment4\""
      ],
      "execution_count": 3,
      "outputs": [
        {
          "output_type": "stream",
          "text": [
            "/content/gdrive/My Drive/datamining-classactivity/assignment4\n"
          ],
          "name": "stdout"
        }
      ]
    },
    {
      "cell_type": "code",
      "metadata": {
        "colab": {
          "base_uri": "https://localhost:8080/"
        },
        "id": "pKrCNpJT8uC0",
        "outputId": "5f905919-1921-4149-b3e7-ee1cbc10b14d"
      },
      "source": [
        "!ls"
      ],
      "execution_count": 4,
      "outputs": [
        {
          "output_type": "stream",
          "text": [
            "mined_news.csv\t     newscluster_model.sav  region.py\t     terminal_colors.py\n",
            "miningnewsSpyder.py  __pycache__\t    sd_algorithm.py  tokenizer.pickle\n"
          ],
          "name": "stdout"
        }
      ]
    },
    {
      "cell_type": "code",
      "metadata": {
        "colab": {
          "resources": {
            "http://localhost:8080/nbextensions/google.colab/files.js": {
              "data": "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",
              "ok": true,
              "headers": [
                [
                  "content-type",
                  "application/javascript"
                ]
              ],
              "status": 200,
              "status_text": ""
            }
          },
          "base_uri": "https://localhost:8080/",
          "height": 73
        },
        "id": "OnBpngWZQv-J",
        "outputId": "d0febbce-63e6-4f16-cfe5-fbe04d125078"
      },
      "source": [
        "from google.colab import files\n",
        "src = list(files.upload().values())[0]"
      ],
      "execution_count": 33,
      "outputs": [
        {
          "output_type": "display_data",
          "data": {
            "text/html": [
              "\n",
              "     <input type=\"file\" id=\"files-5c6aabb1-f208-4279-abc3-2ca31c21c5fe\" name=\"files[]\" multiple disabled\n",
              "        style=\"border:none\" />\n",
              "     <output id=\"result-5c6aabb1-f208-4279-abc3-2ca31c21c5fe\">\n",
              "      Upload widget is only available when the cell has been executed in the\n",
              "      current browser session. Please rerun this cell to enable.\n",
              "      </output>\n",
              "      <script src=\"/nbextensions/google.colab/files.js\"></script> "
            ],
            "text/plain": [
              "<IPython.core.display.HTML object>"
            ]
          },
          "metadata": {
            "tags": []
          }
        },
        {
          "output_type": "stream",
          "text": [
            "Saving sd_algorithm.py to sd_algorithm.py\n"
          ],
          "name": "stdout"
        }
      ]
    },
    {
      "cell_type": "code",
      "metadata": {
        "colab": {
          "base_uri": "https://localhost:8080/"
        },
        "id": "BxLqWbLWUgyx",
        "outputId": "b7fa9ddb-b759-4dba-b948-0522cbcc794b"
      },
      "source": [
        "open('sd_algorithm.py','wb').write(src)"
      ],
      "execution_count": null,
      "outputs": [
        {
          "output_type": "execute_result",
          "data": {
            "text/plain": [
              "25289"
            ]
          },
          "metadata": {
            "tags": []
          },
          "execution_count": 7
        }
      ]
    },
    {
      "cell_type": "code",
      "metadata": {
        "colab": {
          "resources": {
            "http://localhost:8080/nbextensions/google.colab/files.js": {
              "data": "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",
              "ok": true,
              "headers": [
                [
                  "content-type",
                  "application/javascript"
                ]
              ],
              "status": 200,
              "status_text": ""
            }
          },
          "base_uri": "https://localhost:8080/",
          "height": 73
        },
        "id": "bc9MIlnIZlnz",
        "outputId": "01b3f7a7-a7d9-4865-8aa1-f471e4226876"
      },
      "source": [
        "from google.colab import files\n",
        "src = list(files.upload().values())[0]"
      ],
      "execution_count": 7,
      "outputs": [
        {
          "output_type": "display_data",
          "data": {
            "text/html": [
              "\n",
              "     <input type=\"file\" id=\"files-c7611643-1919-40e3-a92c-d935b99bd36e\" name=\"files[]\" multiple disabled\n",
              "        style=\"border:none\" />\n",
              "     <output id=\"result-c7611643-1919-40e3-a92c-d935b99bd36e\">\n",
              "      Upload widget is only available when the cell has been executed in the\n",
              "      current browser session. Please rerun this cell to enable.\n",
              "      </output>\n",
              "      <script src=\"/nbextensions/google.colab/files.js\"></script> "
            ],
            "text/plain": [
              "<IPython.core.display.HTML object>"
            ]
          },
          "metadata": {
            "tags": []
          }
        },
        {
          "output_type": "stream",
          "text": [
            "Saving region.py to region.py\n"
          ],
          "name": "stdout"
        }
      ]
    },
    {
      "cell_type": "code",
      "metadata": {
        "colab": {
          "resources": {
            "http://localhost:8080/nbextensions/google.colab/files.js": {
              "data": "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",
              "ok": true,
              "headers": [
                [
                  "content-type",
                  "application/javascript"
                ]
              ],
              "status": 200,
              "status_text": ""
            }
          },
          "base_uri": "https://localhost:8080/",
          "height": 73
        },
        "id": "XyuIGbvgvJVY",
        "outputId": "5a70c7f4-fd00-493d-a861-e5e45c207d28"
      },
      "source": [
        "from google.colab import files\n",
        "src = list(files.upload().values())[0]"
      ],
      "execution_count": 10,
      "outputs": [
        {
          "output_type": "display_data",
          "data": {
            "text/html": [
              "\n",
              "     <input type=\"file\" id=\"files-55f106e6-cbb5-4cf2-a69d-e70ff0cad73d\" name=\"files[]\" multiple disabled\n",
              "        style=\"border:none\" />\n",
              "     <output id=\"result-55f106e6-cbb5-4cf2-a69d-e70ff0cad73d\">\n",
              "      Upload widget is only available when the cell has been executed in the\n",
              "      current browser session. Please rerun this cell to enable.\n",
              "      </output>\n",
              "      <script src=\"/nbextensions/google.colab/files.js\"></script> "
            ],
            "text/plain": [
              "<IPython.core.display.HTML object>"
            ]
          },
          "metadata": {
            "tags": []
          }
        },
        {
          "output_type": "stream",
          "text": [
            "Saving terminal_colors.py to terminal_colors.py\n"
          ],
          "name": "stdout"
        }
      ]
    },
    {
      "cell_type": "code",
      "metadata": {
        "colab": {
          "base_uri": "https://localhost:8080/"
        },
        "id": "dd2ohf9Pu_6q",
        "outputId": "46efd047-157e-4651-e195-37e2e35c77ee"
      },
      "source": [
        "!ls"
      ],
      "execution_count": 8,
      "outputs": [
        {
          "output_type": "stream",
          "text": [
            "cnn_crawler  foxnews_crawler  __pycache__  region.py  sd_algorithm.py\n"
          ],
          "name": "stdout"
        }
      ]
    },
    {
      "cell_type": "code",
      "metadata": {
        "id": "dJUF7DwiWgoj"
      },
      "source": [
        "import argparse\n",
        "import logging\n",
        "import random\n",
        "from sd_algorithm import SDAlgorithm\n",
        "logging.basicConfig(level=logging.DEBUG)"
      ],
      "execution_count": 28,
      "outputs": []
    },
    {
      "cell_type": "code",
      "metadata": {
        "colab": {
          "base_uri": "https://localhost:8080/"
        },
        "id": "8jULSoT4yJIh",
        "outputId": "6c0196a4-0c60-43a8-c47b-3c957f0853d5"
      },
      "source": [
        "# the file that is going to help us mine our data using the sdalgorithm\n",
        "\n",
        "%%writefile miningnewsSpyder.py\n",
        "\n",
        "import sd_algorithm     #sd algoithm loaded from the file above\n",
        "import pandas as pd\n",
        "\n",
        "# dataframe to convert to csv and use  \n",
        "df = pd.DataFrame()\n",
        "\n",
        "#The newspapers used for mining\n",
        "\n",
        "#1. CBS\n",
        "#2. BBC\n",
        "#3. The guardian\n",
        "#4. Aljazeera\n",
        "\n",
        "\n",
        "# all links to mine data for all the categories\n",
        "all_links = [\n",
        "             'https://www.cbsnews.com/news/gottlieb-covid-infections-hot-spots-face-the-nation/',\n",
        "             'https://www.cbsnews.com/news/evangelical-church-covid-19-pandemic-vaccine-skeptics/',\n",
        "             'https://www.cbsnews.com/news/tax-increase-corporate-taxes-trump-biden/',\n",
        "             'https://www.cbsnews.com/news/capitol-riot-arrests-2021-04-02/',\n",
        "             'https://www.cbsnews.com/news/william-evans-capitol-police-office-killed-lie-honor-rotunda/',\n",
        "             'https://www.cbsnews.com/news/pelosi-matt-gaetz-removed-frobm-judiciary-committee-if-allegations-true/',\n",
        "             'https://www.cbsnews.com/news/pet-adoption-surge-puppy-nannies-demand/',\n",
        "             'https://www.cbsnews.com/news/supreme-court-sides-google-oracle-copyright-case/',\n",
        "             'https://www.cbsnews.com/news/stimulus-check-veterans-waiting-payment/',\n",
        "             'https://www.cbsnews.com/news/tax-increase-corporate-taxes-trump-biden/',\n",
        "             'https://www.cbsnews.com/news/facebook-hack-500-million-accounts/',\n",
        "             'https://www.cbsnews.com/news/corporate-tax-global-minimum-rate-yellen/',\n",
        "             'https://www.cbssports.com/college-basketball/news/scott-drew-never-let-others-change-his-story-path-or-program-and-thats-how-he-led-baylor-to-its-first-title/',\n",
        "             'https://www.cbssports.com/college-basketball/news/scott-drew-never-let-others-change-his-story-path-or-program-and-thats-how-he-led-baylor-to-its-first-title/',\n",
        "             'https://www.cbssports.com/golf/news/2021-masters-odds-favorites-why-you-should-root-for-these-nine-golfers-to-win-at-augusta-national/',\n",
        "             'https://www.cbssports.com/wwe/news/wwe-raw-results-recap-grades-drew-mcintyre-bobby-lashley-stand-tall-ahead-of-wrestlemania-clash/live/',\n",
        "             'https://www.cbssports.com/fantasy/baseball/news/fantasy-baseball-injury-reaction-fernando-tatis-likely-out-a-while-with-shoulder-subluxation-what-now/',\n",
        "             'https://www.cbssports.com/college-basketball/news/2021-ncaa-tournament-bracket-college-basketball-scores-championship-game-schedule-stream-march-madness/',\n",
        "             'https://www.cbsnews.com/news/dmx-hospital-vigil-family/',\n",
        "             'https://www.cbsnews.com/news/music-and-the-medici/',\n",
        "             'https://www.cbsnews.com/news/carrie-underwood-album-of-gospel-standards-my-savior/',\n",
        "             'https://www.cbsnews.com/news/dmx-heart-attack-hospitalized/',\n",
        "             'https://www.cbsnews.com/news/stanford-womens-ncaa-tournament-chamnpions-2021-arizona/',\n",
        "             'https://www.cbsnews.com/news/bridgerton-star-rege-jean-page-duke-of-hastings-season-2/',\n",
        "             'https://www.bbc.com/news/uk-56645208','https://www.bbc.com/news/56129210','https://www.bbc.com/news/av/uk-politics-56646912',\n",
        "             'https://www.bbc.com/news/uk-politics-56647573','https://www.bbc.com/news/uk-northern-ireland-56644797','https://www.bbc.com/news/uk-wales-56611091',\n",
        "             'https://www.bbc.com/news/business-56644058','https://www.bbc.com/news/technology-56639088','https://www.bbc.com/news/business-56650685',\n",
        "             'https://www.bbc.com/news/business-56646761','https://www.bbc.com/news/business-52567567','https://www.bbc.com/news/business-54454990',\n",
        "             'https://www.bbc.com/sport/tennis/56649098','https://www.bbc.com/sport/tennis/56618948','https://www.bbc.com/sport/rugby-union/56650185',\n",
        "             'https://www.bbc.com/sport/football/56001747','https://www.bbc.com/sport/athletics/54964728','https://www.bbc.com/sport/athletics/51800436',\n",
        "             'https://www.bbc.com/culture/article/20191106-why-chinese-rappers-dont-fight-the-power','https://www.bbc.com/culture/article/20200218-the-best-james-bond-themes-that-never-made-it-to-the-screen',\n",
        "             'https://www.bbc.com/culture/article/20191007-the-greatest-hip-hop-songs-of-all-time','https://www.bbc.com/culture/article/20210329-remembering-miss-fury-the-worlds-first-great-superheroine',\n",
        "             'https://www.bbc.com/culture/article/20210305-caterina-van-hemessen-an-unknown-visual-pioneer','https://www.bbc.com/culture/article/20210326-how-african-fashion-has-conquered-film','https://www.aljazeera.com/news/2021/4/4/profile-who-is-jordans-prince-hamza',\n",
        "             'https://www.aljazeera.com/news/2021/4/6/israels-president-to-announce-candidate-to-form-new-government',\n",
        "             'https://www.aljazeera.com/news/2021/4/4/republican-senator-urges-scaled-down-us-infrastructure-plan',\n",
        "             'https://www.aljazeera.com/news/2021/4/2/fears-of-low-turnout-as-bulgaria-prepares-to-vote-in-pandemic',\n",
        "             'https://www.aljazeera.com/news/2021/4/5/putin-signs-law-allowing-him-two-more-terms-as-russias-leader',\n",
        "             'https://www.aljazeera.com/news/2021/4/6/russia-ups-security-at-navalny-prison-ahead-of-planned-protest',\n",
        "             'https://www.aljazeera.com/news/2021/4/6/lebanons-baalbek-reborn-temples-a-newly-launched-virtual-tour',\n",
        "             'https://www.aljazeera.com/economy/2021/4/6/jal-to-retire-fleet-of-planes-that-use-pratt-whitney-engines',\n",
        "             'https://www.aljazeera.com/economy/2021/4/5/race-to-the-bottom-yellen-makes-case-for-global-minimum-tax-rate',\n",
        "             'https://www.aljazeera.com/economy/2021/4/5/gamestop-plans-1bn-share-sale-after-reddit-fuelled-rally',\n",
        "             'https://www.aljazeera.com/economy/2021/4/5/global-stocks-rise-spurred-by-surge-in-us-employment-data',\n",
        "             'https://www.aljazeera.com/economy/2021/4/5/dow-hits-new-record-as-brightening-outlook-unleashes-bulls',\n",
        "             'https://www.aljazeera.com/sports/2021/3/28/pakistan-football-federation-office-attacked',\n",
        "             'https://www.aljazeera.com/news/2021/3/27/indian-cricket-legend-tendulkar-tests-positive-for-coronavirus',\n",
        "             'https://www.aljazeera.com/news/2021/3/26/football-star-thierry-henry-quitting-social-media-over-racism',\n",
        "             'https://www.aljazeera.com/sports/2021/4/4/football-valencia-briefly-walk-off-pitch-after-alleged-racism',\n",
        "             'https://www.aljazeera.com/news/2021/3/20/ncaa-slammed-for-inequality-between-mens-and-womens-facilities',\n",
        "             'https://www.aljazeera.com/sports/2021/3/31/african-tribe-long-marginalised-in-india-seeks-sporting-glory',\n",
        "             'https://www.aljazeera.com/economy/2021/4/2/us-court-orders-halt-to-satan-shoe-sales-in-nike-trademark-row',\n",
        "             'https://www.aljazeera.com/economy/2021/3/19/the-fed-women-entrepreneurs-and-the-kardashians-long-goodbye',\n",
        "             'https://www.aljazeera.com/news/2021/3/17/disneyland-to-reopen',\n",
        "             'https://www.aljazeera.com/news/2021/3/15/beyonce-taylor-swift-make-history-as-women-dominate-grammys',\n",
        "             'https://www.aljazeera.com/economy/2021/3/2/new-harry-potter-video-game-will-allow-trans-characters',\n",
        "             'https://www.aljazeera.com/economy/2021/2/2/gamestop-stock-fizzles-80-from-last-weeks-spectacular-highs',\n",
        "             'https://www.theguardian.com/politics/2021/apr/06/keir-starmer-apologises-for-visiting-jesus-church-behind-which-performed-gay-exorcisms',\n",
        "             'https://www.theguardian.com/environment/2021/apr/06/co2-from-englands-road-plan-up-to-100-times-more-than-dft-says',\n",
        "             'https://www.theguardian.com/society/2021/apr/06/uk-long-covid-patients-facing-postcode-lottery-for-support',\n",
        "             'https://www.theguardian.com/uk-news/2021/apr/05/conservative-mp-cheryl-gillan-dies-after-long-illness',\n",
        "             'https://www.theguardian.com/politics/2021/apr/05/mayor-of-london-sadiq-khan-cannabis-legalisation-drugs-commission',\n",
        "             'https://www.theguardian.com/world/2021/mar/30/who-criticises-chinas-data-sharing-as-it-releases-covid-origins-report',\n",
        "             'https://www.theguardian.com/business/2021/apr/06/retail-entrepreneur-philip-day-backs-deal-to-keep-peacocks-afloat',\n",
        "             'https://www.theguardian.com/travel/2021/apr/05/travel-industry-frustrated-by-lack-of-clarity-on-road-map-to-reopening',\n",
        "             'https://www.theguardian.com/commentisfree/2021/mar/30/biden-tariffs-brexit-britain-eu-big-tech',\n",
        "             'https://www.theguardian.com/business/2021/apr/06/uk-electric-car-sales-covid-lockdown',\n",
        "             'https://www.theguardian.com/uk-news/2021/apr/05/how-a-food-bank-is-helping-city-service-workers-survive-the-pandemic',\n",
        "             'https://www.theguardian.com/money/2021/mar/29/britons-pay-back-most-on-debt-in-27-years-as-credit-card-spending-slumps-covid',\n",
        "             'https://www.theguardian.com/football/2021/apr/06/lille-win-psg-a-reminder-fame-ligue-1-france-title-race',\n",
        "             'https://www.theguardian.com/football/2021/apr/05/wolves-west-ham-premier-league-match-report',\n",
        "             'https://www.theguardian.com/football/2021/apr/05/ousmane-dembele-barcelona-real-valladolid-la-liga-el-clasico',\n",
        "             'https://www.theguardian.com/football/2021/apr/05/championship-middlesbrough-watford-swansea-preston-roundup',\n",
        "             'https://www.theguardian.com/football/football-league-blog/2021/apr/06/how-did-gillingham-become-the-only-efl-club-not-to-pay-agents-a-penny-football',\n",
        "             'https://www.theguardian.com/sport/2021/mar/24/british-masters-golf-bid-for-crowds-at-proposed-covid-pilot-event-in-may',\n",
        "             'https://www.theguardian.com/tv-and-radio/2021/apr/06/ainsley-harriott-i-talk-to-my-ingredients-when-im-cooking',\n",
        "             'https://www.theguardian.com/lifeandstyle/2021/apr/05/how-we-met-i-was-terrified-my-parents-would-find-out-id-been-intimate-with-another-girl',\n",
        "             'https://www.theguardian.com/film/2021/apr/06/terminator-rocky-godzilla-king-kong-versus-movie',\n",
        "             'https://www.theguardian.com/media/2021/apr/06/brilliant-and-versatile-observer-and-guardian-journalist-sarah-hughes-dies-at-48',\n",
        "             'https://www.theguardian.com/film/2021/apr/05/hear-me-out-why-serenity-isnt-a-bad-movie',\n",
        "             'https://www.theguardian.com/food/2021/apr/06/barbecues-are-back-ten-perfect-burgers-to-try-from-vegan-bean-to-bhaji-bites'\n",
        "]\n",
        "\n",
        "# Function to get news content from url\n",
        "def website_content(url):\n",
        "    sd.url = url\n",
        "    content = sd.analyze_page()\n",
        "    return content\n",
        "\n",
        "article_content = []          #all the links content will be saved here\n",
        "category = ['politics', 'business','sports', 'entertainment']       #all the category as mined following this order\n",
        "content_category = [] \n",
        "\n",
        "# to create a link with categories equal to the links \n",
        "track = 0\n",
        "change_cat = 0\n",
        "\n",
        "#every 6 iteration we change the category of the news we are mining\n",
        "for link in all_links:\n",
        "  sd = sd_algorithm.SDAlgorithm()\n",
        "  content = website_content(link)\n",
        "  article_content.append(content)\n",
        "  content_category.append(category[change_cat])\n",
        "\n",
        "  track += 1\n",
        "  if track == 6:\n",
        "    track = 0\n",
        "    change_cat += 1 \n",
        "    if change_cat == 4:\n",
        "      change_cat = 0\n",
        "    \n",
        "df['content'] = article_content\n",
        "df['content_category'] = content_category\n",
        "df['link'] = all_links\n",
        "df.to_csv(\"mined_news.csv\")"
      ],
      "execution_count": 45,
      "outputs": [
        {
          "output_type": "stream",
          "text": [
            "Overwriting miningnewsSpyder.py\n"
          ],
          "name": "stdout"
        }
      ]
    },
    {
      "cell_type": "code",
      "metadata": {
        "colab": {
          "base_uri": "https://localhost:8080/"
        },
        "id": "Zl7Y4aBRl3UO",
        "outputId": "57068e86-3a49-478a-9b2e-ef9c7d2233e0"
      },
      "source": [
        "!python miningnewsSpyder.py"
      ],
      "execution_count": 46,
      "outputs": [
        {
          "output_type": "stream",
          "text": [
            "[*] Create DOM tree...\n",
            "[*] Calculating initial groups...\n",
            "[*] Merging groups...\n",
            "[*] Creating regions...\n",
            "[*] Calculating distances from max region...\n",
            "[*] Printing regions...\n",
            "\n",
            "\u001b[1;37m[\u001b[94mINFO:\u001b[0m\u001b[1;37m]\u001b[0m Multiple similar regions detected!\n",
            "\u001b[1;37m[\u001b[1;92mx\u001b[0m\u001b[1;37m]\u001b[0m\n",
            "Texts2: \n",
            "Successfully mined data\n",
            "None\n",
            "[*] Create DOM tree...\n",
            "[*] Calculating initial groups...\n",
            "[*] Merging groups...\n",
            "[*] Creating regions...\n",
            "[*] Calculating distances from max region...\n",
            "[*] Printing regions...\n",
            "\n",
            "\u001b[1;37m[\u001b[94mINFO:\u001b[0m\u001b[1;37m]\u001b[0m Multiple similar regions detected!\n",
            "\u001b[1;37m[\u001b[1;92mx\u001b[0m\u001b[1;37m]\u001b[0m\n",
            "Texts2: \n",
            "Successfully mined data\n",
            "None\n",
            "[*] Create DOM tree...\n",
            "[*] Calculating initial groups...\n",
            "[*] Merging groups...\n",
            "[*] Creating regions...\n",
            "[*] Calculating distances from max region...\n",
            "[*] Printing regions...\n",
            "\n",
            "\u001b[1;37m[\u001b[94mINFO:\u001b[0m\u001b[1;37m]\u001b[0m Multiple similar regions detected!\n",
            "\u001b[1;37m[\u001b[1;92mx\u001b[0m\u001b[1;37m]\u001b[0m\n",
            "Texts2: \n",
            "Successfully mined data\n",
            "None\n",
            "[*] Create DOM tree...\n",
            "[*] Calculating initial groups...\n",
            "[*] Merging groups...\n",
            "[*] Creating regions...\n",
            "[*] Calculating distances from max region...\n",
            "[*] Printing regions...\n",
            "\n",
            "\u001b[1;37m[\u001b[94mINFO:\u001b[0m\u001b[1;37m]\u001b[0m Multiple similar regions detected!\n",
            "\u001b[1;37m[\u001b[1;92mx\u001b[0m\u001b[1;37m]\u001b[0m\n",
            "Texts2: \n",
            "Successfully mined data\n",
            "None\n",
            "[*] Create DOM tree...\n",
            "[*] Calculating initial groups...\n",
            "[*] Merging groups...\n",
            "[*] Creating regions...\n",
            "[*] Calculating distances from max region...\n",
            "[*] Printing regions...\n",
            "\n",
            "\u001b[1;37m[\u001b[94mINFO:\u001b[0m\u001b[1;37m]\u001b[0m Multiple similar regions detected!\n",
            "\u001b[1;37m[\u001b[1;92mx\u001b[0m\u001b[1;37m]\u001b[0m\n",
            "Texts2: \n",
            "Successfully mined data\n",
            "None\n",
            "[*] Create DOM tree...\n",
            "[*] Calculating initial groups...\n",
            "[*] Merging groups...\n",
            "[*] Creating regions...\n",
            "[*] Calculating distances from max region...\n",
            "[*] Printing regions...\n",
            "\n",
            "\u001b[1;37m[\u001b[94mINFO:\u001b[0m\u001b[1;37m]\u001b[0m Multiple similar regions detected!\n",
            "\u001b[1;37m[\u001b[1;92mx\u001b[0m\u001b[1;37m]\u001b[0m\n",
            "Texts2: \n",
            "Successfully mined data\n",
            "None\n",
            "[*] Create DOM tree...\n",
            "[*] Calculating initial groups...\n",
            "[*] Merging groups...\n",
            "[*] Creating regions...\n",
            "[*] Calculating distances from max region...\n",
            "[*] Printing regions...\n",
            "\n",
            "\u001b[1;37m[\u001b[94mINFO:\u001b[0m\u001b[1;37m]\u001b[0m Multiple similar regions detected!\n",
            "\u001b[1;37m[\u001b[1;92mx\u001b[0m\u001b[1;37m]\u001b[0m\n",
            "Texts2: \n",
            "Successfully mined data\n",
            "None\n",
            "[*] Create DOM tree...\n",
            "[*] Calculating initial groups...\n",
            "[*] Merging groups...\n",
            "[*] Creating regions...\n",
            "[*] Calculating distances from max region...\n",
            "[*] Printing regions...\n",
            "\n",
            "\u001b[1;37m[\u001b[94mINFO:\u001b[0m\u001b[1;37m]\u001b[0m Multiple similar regions detected!\n",
            "\u001b[1;37m[\u001b[1;92mx\u001b[0m\u001b[1;37m]\u001b[0m\n",
            "Texts2: \n",
            "Successfully mined data\n",
            "None\n",
            "[*] Create DOM tree...\n",
            "[*] Calculating initial groups...\n",
            "[*] Merging groups...\n",
            "[*] Creating regions...\n",
            "[*] Calculating distances from max region...\n",
            "[*] Printing regions...\n",
            "\n",
            "\u001b[1;37m[\u001b[94mINFO:\u001b[0m\u001b[1;37m]\u001b[0m Multiple similar regions detected!\n",
            "\u001b[1;37m[\u001b[1;92mx\u001b[0m\u001b[1;37m]\u001b[0m\n",
            "Texts2: \n",
            "Successfully mined data\n",
            "None\n",
            "[*] Create DOM tree...\n",
            "[*] Calculating initial groups...\n",
            "[*] Merging groups...\n",
            "[*] Creating regions...\n",
            "[*] Calculating distances from max region...\n",
            "[*] Printing regions...\n",
            "\n",
            "\u001b[1;37m[\u001b[94mINFO:\u001b[0m\u001b[1;37m]\u001b[0m Multiple similar regions detected!\n",
            "\u001b[1;37m[\u001b[1;92mx\u001b[0m\u001b[1;37m]\u001b[0m\n",
            "Texts2: \n",
            "Successfully mined data\n",
            "None\n",
            "[*] Create DOM tree...\n",
            "[*] Calculating initial groups...\n",
            "[*] Merging groups...\n",
            "[*] Creating regions...\n",
            "[*] Calculating distances from max region...\n",
            "[*] Printing regions...\n",
            "\n",
            "\u001b[1;37m[\u001b[94mINFO:\u001b[0m\u001b[1;37m]\u001b[0m Multiple similar regions detected!\n",
            "\u001b[1;37m[\u001b[1;92mx\u001b[0m\u001b[1;37m]\u001b[0m\n",
            "Texts2: \n",
            "Successfully mined data\n",
            "None\n",
            "[*] Create DOM tree...\n",
            "[*] Calculating initial groups...\n",
            "[*] Merging groups...\n",
            "[*] Creating regions...\n",
            "[*] Calculating distances from max region...\n",
            "[*] Printing regions...\n",
            "\n",
            "\u001b[1;37m[\u001b[94mINFO:\u001b[0m\u001b[1;37m]\u001b[0m Multiple similar regions detected!\n",
            "\u001b[1;37m[\u001b[1;92mx\u001b[0m\u001b[1;37m]\u001b[0m\n",
            "Texts2: \n",
            "Successfully mined data\n",
            "None\n",
            "[*] Create DOM tree...\n",
            "[*] Calculating initial groups...\n",
            "[*] Merging groups...\n",
            "[*] Creating regions...\n",
            "[*] Calculating distances from max region...\n",
            "[*] Printing regions...\n",
            "\n",
            "\u001b[1;37m[\u001b[94mINFO:\u001b[0m\u001b[1;37m]\u001b[0m Multiple similar regions detected!\n",
            "\u001b[1;37m[\u001b[1;92mx\u001b[0m\u001b[1;37m]\u001b[0m\n",
            "Texts2: \n",
            "Successfully mined data\n",
            "None\n",
            "[*] Create DOM tree...\n",
            "[*] Calculating initial groups...\n",
            "[*] Merging groups...\n",
            "[*] Creating regions...\n",
            "[*] Calculating distances from max region...\n",
            "[*] Printing regions...\n",
            "\n",
            "\u001b[1;37m[\u001b[94mINFO:\u001b[0m\u001b[1;37m]\u001b[0m Multiple similar regions detected!\n",
            "\u001b[1;37m[\u001b[1;92mx\u001b[0m\u001b[1;37m]\u001b[0m\n",
            "Texts2: \n",
            "Successfully mined data\n",
            "None\n",
            "[*] Create DOM tree...\n",
            "[*] Calculating initial groups...\n",
            "[*] Merging groups...\n",
            "[*] Creating regions...\n",
            "[*] Calculating distances from max region...\n",
            "[*] Printing regions...\n",
            "\n",
            "\u001b[1;37m[\u001b[94mINFO:\u001b[0m\u001b[1;37m]\u001b[0m Multiple similar regions detected!\n",
            "\u001b[1;37m[\u001b[1;92mx\u001b[0m\u001b[1;37m]\u001b[0m\n",
            "Texts2: \n",
            "Successfully mined data\n",
            "None\n",
            "[*] Create DOM tree...\n",
            "[*] Calculating initial groups...\n",
            "[*] Merging groups...\n",
            "[*] Creating regions...\n",
            "[*] Calculating distances from max region...\n",
            "[*] Printing regions...\n",
            "\n",
            "\u001b[1;37m[\u001b[94mINFO:\u001b[0m\u001b[1;37m]\u001b[0m Multiple similar regions detected!\n",
            "\u001b[1;37m[\u001b[1;92mx\u001b[0m\u001b[1;37m]\u001b[0m\n",
            "Texts2: \n",
            "Successfully mined data\n",
            "None\n",
            "[*] Create DOM tree...\n",
            "[*] Calculating initial groups...\n",
            "[*] Merging groups...\n",
            "[*] Creating regions...\n",
            "[*] Calculating distances from max region...\n",
            "[*] Printing regions...\n",
            "\n",
            "\u001b[1;37m[\u001b[94mINFO:\u001b[0m\u001b[1;37m]\u001b[0m Multiple similar regions detected!\n",
            "\u001b[1;37m[\u001b[1;92mx\u001b[0m\u001b[1;37m]\u001b[0m\n",
            "Texts2: \n",
            "Successfully mined data\n",
            "None\n",
            "[*] Create DOM tree...\n",
            "[*] Calculating initial groups...\n",
            "[*] Merging groups...\n",
            "[*] Creating regions...\n",
            "[*] Calculating distances from max region...\n",
            "[*] Printing regions...\n",
            "\n",
            "\u001b[1;37m[\u001b[94mINFO:\u001b[0m\u001b[1;37m]\u001b[0m Multiple similar regions detected!\n",
            "\u001b[1;37m[\u001b[1;92mx\u001b[0m\u001b[1;37m]\u001b[0m\n",
            "Texts2: \n",
            "Successfully mined data\n",
            "None\n",
            "[*] Create DOM tree...\n",
            "[*] Calculating initial groups...\n",
            "[*] Merging groups...\n",
            "[*] Creating regions...\n",
            "[*] Calculating distances from max region...\n",
            "[*] Printing regions...\n",
            "\n",
            "\u001b[1;37m[\u001b[94mINFO:\u001b[0m\u001b[1;37m]\u001b[0m Multiple similar regions detected!\n",
            "\u001b[1;37m[\u001b[1;92mx\u001b[0m\u001b[1;37m]\u001b[0m\n",
            "Texts2: \n",
            "Successfully mined data\n",
            "None\n",
            "[*] Create DOM tree...\n",
            "[*] Calculating initial groups...\n",
            "[*] Merging groups...\n",
            "[*] Creating regions...\n",
            "[*] Calculating distances from max region...\n",
            "[*] Printing regions...\n",
            "\n",
            "\u001b[1;37m[\u001b[94mINFO:\u001b[0m\u001b[1;37m]\u001b[0m Multiple similar regions detected!\n",
            "\u001b[1;37m[\u001b[1;92mx\u001b[0m\u001b[1;37m]\u001b[0m\n",
            "Texts2: \n",
            "Successfully mined data\n",
            "None\n",
            "[*] Create DOM tree...\n",
            "[*] Calculating initial groups...\n",
            "[*] Merging groups...\n",
            "[*] Creating regions...\n",
            "[*] Calculating distances from max region...\n",
            "[*] Printing regions...\n",
            "\n",
            "\u001b[1;37m[\u001b[94mINFO:\u001b[0m\u001b[1;37m]\u001b[0m Multiple similar regions detected!\n",
            "\u001b[1;37m[\u001b[1;92mx\u001b[0m\u001b[1;37m]\u001b[0m\n",
            "Texts2: \n",
            "Successfully mined data\n",
            "None\n",
            "[*] Create DOM tree...\n",
            "[*] Calculating initial groups...\n",
            "[*] Merging groups...\n",
            "[*] Creating regions...\n",
            "[*] Calculating distances from max region...\n",
            "[*] Printing regions...\n",
            "\n",
            "\u001b[1;37m[\u001b[94mINFO:\u001b[0m\u001b[1;37m]\u001b[0m Multiple similar regions detected!\n",
            "\u001b[1;37m[\u001b[1;92mx\u001b[0m\u001b[1;37m]\u001b[0m\n",
            "Texts2: \n",
            "Successfully mined data\n",
            "None\n",
            "[*] Create DOM tree...\n",
            "[*] Calculating initial groups...\n",
            "[*] Merging groups...\n",
            "[*] Creating regions...\n",
            "[*] Calculating distances from max region...\n",
            "[*] Printing regions...\n",
            "\n",
            "\u001b[1;37m[\u001b[94mINFO:\u001b[0m\u001b[1;37m]\u001b[0m Multiple similar regions detected!\n",
            "\u001b[1;37m[\u001b[1;92mx\u001b[0m\u001b[1;37m]\u001b[0m\n",
            "Texts2: \n",
            "Successfully mined data\n",
            "None\n",
            "[*] Create DOM tree...\n",
            "[*] Calculating initial groups...\n",
            "[*] Merging groups...\n",
            "[*] Creating regions...\n",
            "[*] Calculating distances from max region...\n",
            "[*] Printing regions...\n",
            "\n",
            "\u001b[1;37m[\u001b[94mINFO:\u001b[0m\u001b[1;37m]\u001b[0m Multiple similar regions detected!\n",
            "\u001b[1;37m[\u001b[1;92mx\u001b[0m\u001b[1;37m]\u001b[0m\n",
            "Texts2: \n",
            "Successfully mined data\n",
            "None\n",
            "[*] Create DOM tree...\n",
            "[*] Calculating initial groups...\n",
            "[*] Merging groups...\n",
            "[*] Creating regions...\n",
            "[*] Calculating distances from max region...\n",
            "[*] Printing regions...\n",
            "\n",
            "\u001b[1;37m[\u001b[94mINFO:\u001b[0m\u001b[1;37m]\u001b[0m Multiple similar regions detected!\n",
            "\u001b[1;37m[\u001b[1;92mx\u001b[0m\u001b[1;37m]\u001b[0m\n",
            "Texts2: \n",
            "Successfully mined data\n",
            "None\n",
            "[*] Create DOM tree...\n",
            "[*] Calculating initial groups...\n",
            "[*] Merging groups...\n",
            "[*] Creating regions...\n",
            "[*] Calculating distances from max region...\n",
            "[*] Printing regions...\n",
            "\n",
            "\u001b[1;37m[\u001b[94mINFO:\u001b[0m\u001b[1;37m]\u001b[0m Multiple similar regions detected!\n",
            "\u001b[1;37m[\u001b[1;92mx\u001b[0m\u001b[1;37m]\u001b[0m\n",
            "Texts2: \n",
            "Successfully mined data\n",
            "None\n",
            "[*] Create DOM tree...\n",
            "[*] Calculating initial groups...\n",
            "[*] Merging groups...\n",
            "[*] Creating regions...\n",
            "[*] Calculating distances from max region...\n",
            "[*] Printing regions...\n",
            "\n",
            "\u001b[1;37m[\u001b[94mINFO:\u001b[0m\u001b[1;37m]\u001b[0m Multiple similar regions detected!\n",
            "\u001b[1;37m[\u001b[1;92mx\u001b[0m\u001b[1;37m]\u001b[0m\n",
            "Texts2: \n",
            "Successfully mined data\n",
            "None\n",
            "[*] Create DOM tree...\n",
            "[*] Calculating initial groups...\n",
            "[*] Merging groups...\n",
            "[*] Creating regions...\n",
            "[*] Calculating distances from max region...\n",
            "[*] Printing regions...\n",
            "\n",
            "\u001b[1;37m[\u001b[94mINFO:\u001b[0m\u001b[1;37m]\u001b[0m Multiple similar regions detected!\n",
            "\u001b[1;37m[\u001b[1;92mx\u001b[0m\u001b[1;37m]\u001b[0m\n",
            "Texts2: \n",
            "Successfully mined data\n",
            "None\n",
            "[*] Create DOM tree...\n",
            "[*] Calculating initial groups...\n",
            "[*] Merging groups...\n",
            "[*] Creating regions...\n",
            "[*] Calculating distances from max region...\n",
            "[*] Printing regions...\n",
            "\n",
            "\u001b[1;37m[\u001b[94mINFO:\u001b[0m\u001b[1;37m]\u001b[0m Multiple similar regions detected!\n",
            "\u001b[1;37m[\u001b[1;92mx\u001b[0m\u001b[1;37m]\u001b[0m\n",
            "Texts2: \n",
            "Successfully mined data\n",
            "None\n",
            "[*] Create DOM tree...\n",
            "[*] Calculating initial groups...\n",
            "[*] Merging groups...\n",
            "[*] Creating regions...\n",
            "[*] Calculating distances from max region...\n",
            "[*] Printing regions...\n",
            "\n",
            "\u001b[1;37m[\u001b[94mINFO:\u001b[0m\u001b[1;37m]\u001b[0m Multiple similar regions detected!\n",
            "\u001b[1;37m[\u001b[1;92mx\u001b[0m\u001b[1;37m]\u001b[0m\n",
            "Texts2: \n",
            "Successfully mined data\n",
            "None\n",
            "[*] Create DOM tree...\n",
            "[*] Calculating initial groups...\n",
            "[*] Merging groups...\n",
            "[*] Creating regions...\n",
            "[*] Calculating distances from max region...\n",
            "[*] Printing regions...\n",
            "\n",
            "\u001b[1;37m[\u001b[94mINFO:\u001b[0m\u001b[1;37m]\u001b[0m Multiple similar regions detected!\n",
            "\u001b[1;37m[\u001b[1;92mx\u001b[0m\u001b[1;37m]\u001b[0m\n",
            "Texts2: \n",
            "Successfully mined data\n",
            "None\n",
            "[*] Create DOM tree...\n",
            "[*] Calculating initial groups...\n",
            "[*] Merging groups...\n",
            "[*] Creating regions...\n",
            "[*] Calculating distances from max region...\n",
            "[*] Printing regions...\n",
            "\n",
            "\u001b[1;37m[\u001b[94mINFO:\u001b[0m\u001b[1;37m]\u001b[0m Multiple similar regions detected!\n",
            "\u001b[1;37m[\u001b[1;92mx\u001b[0m\u001b[1;37m]\u001b[0m\n",
            "Texts2: \n",
            "Successfully mined data\n",
            "None\n",
            "[*] Create DOM tree...\n",
            "[*] Calculating initial groups...\n",
            "[*] Merging groups...\n",
            "[*] Creating regions...\n",
            "[*] Calculating distances from max region...\n",
            "[*] Printing regions...\n",
            "\n",
            "\u001b[1;37m[\u001b[94mINFO:\u001b[0m\u001b[1;37m]\u001b[0m Multiple similar regions detected!\n",
            "\u001b[1;37m[\u001b[1;92mx\u001b[0m\u001b[1;37m]\u001b[0m\n",
            "Texts2: \n",
            "Successfully mined data\n",
            "None\n",
            "[*] Create DOM tree...\n",
            "[*] Calculating initial groups...\n",
            "[*] Merging groups...\n",
            "[*] Creating regions...\n",
            "[*] Calculating distances from max region...\n",
            "[*] Printing regions...\n",
            "\n",
            "\u001b[1;37m[\u001b[94mINFO:\u001b[0m\u001b[1;37m]\u001b[0m Multiple similar regions detected!\n",
            "\u001b[1;37m[\u001b[1;92mx\u001b[0m\u001b[1;37m]\u001b[0m\n",
            "Texts2: \n",
            "Successfully mined data\n",
            "None\n",
            "[*] Create DOM tree...\n",
            "[*] Calculating initial groups...\n",
            "[*] Merging groups...\n",
            "[*] Creating regions...\n",
            "[*] Calculating distances from max region...\n",
            "[*] Printing regions...\n",
            "\n",
            "\u001b[1;37m[\u001b[94mINFO:\u001b[0m\u001b[1;37m]\u001b[0m Multiple similar regions detected!\n",
            "\u001b[1;37m[\u001b[1;92mx\u001b[0m\u001b[1;37m]\u001b[0m\n",
            "Texts2: \n",
            "Successfully mined data\n",
            "None\n",
            "[*] Create DOM tree...\n",
            "[*] Calculating initial groups...\n",
            "[*] Merging groups...\n",
            "[*] Creating regions...\n",
            "[*] Calculating distances from max region...\n",
            "[*] Printing regions...\n",
            "\n",
            "\u001b[1;37m[\u001b[94mINFO:\u001b[0m\u001b[1;37m]\u001b[0m Multiple similar regions detected!\n",
            "\u001b[1;37m[\u001b[1;92mx\u001b[0m\u001b[1;37m]\u001b[0m\n",
            "Texts2: \n",
            "Successfully mined data\n",
            "None\n",
            "[*] Create DOM tree...\n",
            "[*] Calculating initial groups...\n",
            "[*] Merging groups...\n",
            "[*] Creating regions...\n",
            "[*] Calculating distances from max region...\n",
            "[*] Printing regions...\n",
            "\n",
            "\u001b[1;37m[\u001b[94mINFO:\u001b[0m\u001b[1;37m]\u001b[0m Multiple similar regions detected!\n",
            "\u001b[1;37m[\u001b[1;92mx\u001b[0m\u001b[1;37m]\u001b[0m\n",
            "Texts2: \n",
            "Successfully mined data\n",
            "None\n",
            "[*] Create DOM tree...\n",
            "[*] Calculating initial groups...\n",
            "[*] Merging groups...\n",
            "[*] Creating regions...\n",
            "[*] Calculating distances from max region...\n",
            "[*] Printing regions...\n",
            "\n",
            "\u001b[1;37m[\u001b[94mINFO:\u001b[0m\u001b[1;37m]\u001b[0m Multiple similar regions detected!\n",
            "\u001b[1;37m[\u001b[1;92mx\u001b[0m\u001b[1;37m]\u001b[0m\n",
            "Texts2: \n",
            "Successfully mined data\n",
            "None\n",
            "[*] Create DOM tree...\n",
            "[*] Calculating initial groups...\n",
            "[*] Merging groups...\n",
            "[*] Creating regions...\n",
            "[*] Calculating distances from max region...\n",
            "[*] Printing regions...\n",
            "\n",
            "\u001b[1;37m[\u001b[94mINFO:\u001b[0m\u001b[1;37m]\u001b[0m Multiple similar regions detected!\n",
            "\u001b[1;37m[\u001b[1;92mx\u001b[0m\u001b[1;37m]\u001b[0m\n",
            "Texts2: \n",
            "Successfully mined data\n",
            "None\n",
            "[*] Create DOM tree...\n",
            "[*] Calculating initial groups...\n",
            "[*] Merging groups...\n",
            "[*] Creating regions...\n",
            "[*] Calculating distances from max region...\n",
            "[*] Printing regions...\n",
            "\n",
            "\u001b[1;37m[\u001b[94mINFO:\u001b[0m\u001b[1;37m]\u001b[0m Multiple similar regions detected!\n",
            "\u001b[1;37m[\u001b[1;92mx\u001b[0m\u001b[1;37m]\u001b[0m\n",
            "Texts2: \n",
            "Successfully mined data\n",
            "None\n",
            "[*] Create DOM tree...\n",
            "[*] Calculating initial groups...\n",
            "[*] Merging groups...\n",
            "[*] Creating regions...\n",
            "[*] Calculating distances from max region...\n",
            "[*] Printing regions...\n",
            "\n",
            "\u001b[1;37m[\u001b[94mINFO:\u001b[0m\u001b[1;37m]\u001b[0m Multiple similar regions detected!\n",
            "\u001b[1;37m[\u001b[1;92mx\u001b[0m\u001b[1;37m]\u001b[0m\n",
            "Texts2: \n",
            "Successfully mined data\n",
            "None\n",
            "[*] Create DOM tree...\n",
            "[*] Calculating initial groups...\n",
            "[*] Merging groups...\n",
            "[*] Creating regions...\n",
            "[*] Calculating distances from max region...\n",
            "[*] Printing regions...\n",
            "\n",
            "\u001b[1;37m[\u001b[94mINFO:\u001b[0m\u001b[1;37m]\u001b[0m Multiple similar regions detected!\n",
            "\u001b[1;37m[\u001b[1;92mx\u001b[0m\u001b[1;37m]\u001b[0m\n",
            "Texts2: \n",
            "Successfully mined data\n",
            "None\n",
            "[*] Create DOM tree...\n",
            "[*] Calculating initial groups...\n",
            "[*] Merging groups...\n",
            "[*] Creating regions...\n",
            "[*] Calculating distances from max region...\n",
            "[*] Printing regions...\n",
            "\n",
            "\u001b[1;37m[\u001b[94mINFO:\u001b[0m\u001b[1;37m]\u001b[0m Multiple similar regions detected!\n",
            "\u001b[1;37m[\u001b[1;92mx\u001b[0m\u001b[1;37m]\u001b[0m\n",
            "Texts2: \n",
            "Successfully mined data\n",
            "None\n",
            "[*] Create DOM tree...\n",
            "[*] Calculating initial groups...\n",
            "[*] Merging groups...\n",
            "[*] Creating regions...\n",
            "[*] Calculating distances from max region...\n",
            "[*] Printing regions...\n",
            "\n",
            "\u001b[1;37m[\u001b[94mINFO:\u001b[0m\u001b[1;37m]\u001b[0m Multiple similar regions detected!\n",
            "\u001b[1;37m[\u001b[1;92mx\u001b[0m\u001b[1;37m]\u001b[0m\n",
            "Texts2: \n",
            "Successfully mined data\n",
            "None\n",
            "[*] Create DOM tree...\n",
            "[*] Calculating initial groups...\n",
            "[*] Merging groups...\n",
            "[*] Creating regions...\n",
            "[*] Calculating distances from max region...\n",
            "[*] Printing regions...\n",
            "\n",
            "\u001b[1;37m[\u001b[94mINFO:\u001b[0m\u001b[1;37m]\u001b[0m Multiple similar regions detected!\n",
            "\u001b[1;37m[\u001b[1;92mx\u001b[0m\u001b[1;37m]\u001b[0m\n",
            "Texts2: \n",
            "Successfully mined data\n",
            "None\n",
            "[*] Create DOM tree...\n",
            "[*] Calculating initial groups...\n",
            "[*] Merging groups...\n",
            "[*] Creating regions...\n",
            "[*] Calculating distances from max region...\n",
            "[*] Printing regions...\n",
            "\n",
            "\u001b[1;37m[\u001b[94mINFO:\u001b[0m\u001b[1;37m]\u001b[0m Multiple similar regions detected!\n",
            "\u001b[1;37m[\u001b[1;92mx\u001b[0m\u001b[1;37m]\u001b[0m\n",
            "Texts2: \n",
            "Successfully mined data\n",
            "None\n",
            "[*] Create DOM tree...\n",
            "[*] Calculating initial groups...\n",
            "[*] Merging groups...\n",
            "[*] Creating regions...\n",
            "[*] Calculating distances from max region...\n",
            "[*] Printing regions...\n",
            "\n",
            "\u001b[1;37m[\u001b[94mINFO:\u001b[0m\u001b[1;37m]\u001b[0m Multiple similar regions detected!\n",
            "\u001b[1;37m[\u001b[1;92mx\u001b[0m\u001b[1;37m]\u001b[0m\n",
            "Texts2: \n",
            "Successfully mined data\n",
            "None\n",
            "[*] Create DOM tree...\n",
            "[*] Calculating initial groups...\n",
            "[*] Merging groups...\n",
            "[*] Creating regions...\n",
            "[*] Calculating distances from max region...\n",
            "[*] Printing regions...\n",
            "\n",
            "\u001b[1;37m[\u001b[94mINFO:\u001b[0m\u001b[1;37m]\u001b[0m Multiple similar regions detected!\n",
            "\u001b[1;37m[\u001b[1;92mx\u001b[0m\u001b[1;37m]\u001b[0m\n",
            "Texts2: \n",
            "Successfully mined data\n",
            "None\n",
            "[*] Create DOM tree...\n",
            "[*] Calculating initial groups...\n",
            "[*] Merging groups...\n",
            "[*] Creating regions...\n",
            "[*] Calculating distances from max region...\n",
            "[*] Printing regions...\n",
            "\n",
            "\u001b[1;37m[\u001b[94mINFO:\u001b[0m\u001b[1;37m]\u001b[0m Multiple similar regions detected!\n",
            "\u001b[1;37m[\u001b[1;92mx\u001b[0m\u001b[1;37m]\u001b[0m\n",
            "Texts2: \n",
            "Successfully mined data\n",
            "None\n",
            "[*] Create DOM tree...\n",
            "[*] Calculating initial groups...\n",
            "[*] Merging groups...\n",
            "[*] Creating regions...\n",
            "[*] Calculating distances from max region...\n",
            "[*] Printing regions...\n",
            "\n",
            "\u001b[1;37m[\u001b[94mINFO:\u001b[0m\u001b[1;37m]\u001b[0m Multiple similar regions detected!\n",
            "\u001b[1;37m[\u001b[1;92mx\u001b[0m\u001b[1;37m]\u001b[0m\n",
            "Texts2: \n",
            "Successfully mined data\n",
            "None\n",
            "[*] Create DOM tree...\n",
            "[*] Calculating initial groups...\n",
            "[*] Merging groups...\n",
            "[*] Creating regions...\n",
            "[*] Calculating distances from max region...\n",
            "[*] Printing regions...\n",
            "\n",
            "\u001b[1;37m[\u001b[94mINFO:\u001b[0m\u001b[1;37m]\u001b[0m Multiple similar regions detected!\n",
            "\u001b[1;37m[\u001b[1;92mx\u001b[0m\u001b[1;37m]\u001b[0m\n",
            "Texts2: \n",
            "Successfully mined data\n",
            "None\n",
            "[*] Create DOM tree...\n",
            "[*] Calculating initial groups...\n",
            "[*] Merging groups...\n",
            "[*] Creating regions...\n",
            "[*] Calculating distances from max region...\n",
            "[*] Printing regions...\n",
            "\n",
            "\u001b[1;37m[\u001b[94mINFO:\u001b[0m\u001b[1;37m]\u001b[0m Multiple similar regions detected!\n",
            "\u001b[1;37m[\u001b[1;92mx\u001b[0m\u001b[1;37m]\u001b[0m\n",
            "Texts2: \n",
            "Successfully mined data\n",
            "None\n",
            "[*] Create DOM tree...\n",
            "[*] Calculating initial groups...\n",
            "[*] Merging groups...\n",
            "[*] Creating regions...\n",
            "[*] Calculating distances from max region...\n",
            "[*] Printing regions...\n",
            "\n",
            "\u001b[1;37m[\u001b[94mINFO:\u001b[0m\u001b[1;37m]\u001b[0m Multiple similar regions detected!\n",
            "\u001b[1;37m[\u001b[1;92mx\u001b[0m\u001b[1;37m]\u001b[0m\n",
            "Texts2: \n",
            "Successfully mined data\n",
            "None\n",
            "[*] Create DOM tree...\n",
            "[*] Calculating initial groups...\n",
            "[*] Merging groups...\n",
            "[*] Creating regions...\n",
            "[*] Calculating distances from max region...\n",
            "[*] Printing regions...\n",
            "\n",
            "\u001b[1;37m[\u001b[94mINFO:\u001b[0m\u001b[1;37m]\u001b[0m Multiple similar regions detected!\n",
            "\u001b[1;37m[\u001b[1;92mx\u001b[0m\u001b[1;37m]\u001b[0m\n",
            "Texts2: \n",
            "Successfully mined data\n",
            "None\n",
            "[*] Create DOM tree...\n",
            "[*] Calculating initial groups...\n",
            "[*] Merging groups...\n",
            "[*] Creating regions...\n",
            "[*] Calculating distances from max region...\n",
            "[*] Printing regions...\n",
            "\n",
            "\u001b[1;37m[\u001b[94mINFO:\u001b[0m\u001b[1;37m]\u001b[0m Multiple similar regions detected!\n",
            "\u001b[1;37m[\u001b[1;92mx\u001b[0m\u001b[1;37m]\u001b[0m\n",
            "Texts2: \n",
            "Successfully mined data\n",
            "None\n",
            "[*] Create DOM tree...\n",
            "[*] Calculating initial groups...\n",
            "[*] Merging groups...\n",
            "[*] Creating regions...\n",
            "[*] Calculating distances from max region...\n",
            "[*] Printing regions...\n",
            "\n",
            "\u001b[1;37m[\u001b[94mINFO:\u001b[0m\u001b[1;37m]\u001b[0m Multiple similar regions detected!\n",
            "\u001b[1;37m[\u001b[1;92mx\u001b[0m\u001b[1;37m]\u001b[0m\n",
            "Texts2: \n",
            "Successfully mined data\n",
            "None\n",
            "[*] Create DOM tree...\n",
            "[*] Calculating initial groups...\n",
            "[*] Merging groups...\n",
            "[*] Creating regions...\n",
            "[*] Calculating distances from max region...\n",
            "[*] Printing regions...\n",
            "\n",
            "\u001b[1;37m[\u001b[94mINFO:\u001b[0m\u001b[1;37m]\u001b[0m Multiple similar regions detected!\n",
            "\u001b[1;37m[\u001b[1;92mx\u001b[0m\u001b[1;37m]\u001b[0m\n",
            "Texts2: \n",
            "Successfully mined data\n",
            "None\n",
            "[*] Create DOM tree...\n",
            "[*] Calculating initial groups...\n",
            "[*] Merging groups...\n",
            "[*] Creating regions...\n",
            "[*] Calculating distances from max region...\n",
            "[*] Printing regions...\n",
            "\n",
            "\u001b[1;37m[\u001b[94mINFO:\u001b[0m\u001b[1;37m]\u001b[0m Multiple similar regions detected!\n",
            "\u001b[1;37m[\u001b[1;92mx\u001b[0m\u001b[1;37m]\u001b[0m\n",
            "Texts2: \n",
            "Successfully mined data\n",
            "None\n",
            "[*] Create DOM tree...\n",
            "[*] Calculating initial groups...\n",
            "[*] Merging groups...\n",
            "[*] Creating regions...\n",
            "[*] Calculating distances from max region...\n",
            "[*] Printing regions...\n",
            "\n",
            "\u001b[1;37m[\u001b[94mINFO:\u001b[0m\u001b[1;37m]\u001b[0m Multiple similar regions detected!\n",
            "\u001b[1;37m[\u001b[1;92mx\u001b[0m\u001b[1;37m]\u001b[0m\n",
            "Texts2: \n",
            "Successfully mined data\n",
            "None\n",
            "[*] Create DOM tree...\n",
            "[*] Calculating initial groups...\n",
            "[*] Merging groups...\n",
            "[*] Creating regions...\n",
            "[*] Calculating distances from max region...\n",
            "[*] Printing regions...\n",
            "\n",
            "\u001b[1;37m[\u001b[94mINFO:\u001b[0m\u001b[1;37m]\u001b[0m Multiple similar regions detected!\n",
            "\u001b[1;37m[\u001b[1;92mx\u001b[0m\u001b[1;37m]\u001b[0m\n",
            "Texts2: \n",
            "Successfully mined data\n",
            "None\n",
            "[*] Create DOM tree...\n",
            "[*] Calculating initial groups...\n",
            "[*] Merging groups...\n",
            "[*] Creating regions...\n",
            "[*] Calculating distances from max region...\n",
            "[*] Printing regions...\n",
            "\n",
            "\u001b[1;37m[\u001b[94mINFO:\u001b[0m\u001b[1;37m]\u001b[0m Multiple similar regions detected!\n",
            "\u001b[1;37m[\u001b[1;92mx\u001b[0m\u001b[1;37m]\u001b[0m\n",
            "Texts2: \n",
            "Successfully mined data\n",
            "None\n",
            "[*] Create DOM tree...\n",
            "[*] Calculating initial groups...\n",
            "[*] Merging groups...\n",
            "[*] Creating regions...\n",
            "[*] Calculating distances from max region...\n",
            "[*] Printing regions...\n",
            "\n",
            "\u001b[1;37m[\u001b[94mINFO:\u001b[0m\u001b[1;37m]\u001b[0m Multiple similar regions detected!\n",
            "\u001b[1;37m[\u001b[1;92mx\u001b[0m\u001b[1;37m]\u001b[0m\n",
            "Texts2: \n",
            "Successfully mined data\n",
            "None\n",
            "[*] Create DOM tree...\n",
            "[*] Calculating initial groups...\n",
            "[*] Merging groups...\n",
            "[*] Creating regions...\n",
            "[*] Calculating distances from max region...\n",
            "[*] Printing regions...\n",
            "\n",
            "\u001b[1;37m[\u001b[94mINFO:\u001b[0m\u001b[1;37m]\u001b[0m Multiple similar regions detected!\n",
            "\u001b[1;37m[\u001b[1;92mx\u001b[0m\u001b[1;37m]\u001b[0m\n",
            "Texts2: \n",
            "Successfully mined data\n",
            "None\n",
            "[*] Create DOM tree...\n",
            "[*] Calculating initial groups...\n",
            "[*] Merging groups...\n",
            "[*] Creating regions...\n",
            "[*] Calculating distances from max region...\n",
            "[*] Printing regions...\n",
            "\n",
            "\u001b[1;37m[\u001b[94mINFO:\u001b[0m\u001b[1;37m]\u001b[0m Multiple similar regions detected!\n",
            "\u001b[1;37m[\u001b[1;92mx\u001b[0m\u001b[1;37m]\u001b[0m\n",
            "Texts2: \n",
            "Successfully mined data\n",
            "None\n",
            "[*] Create DOM tree...\n",
            "[*] Calculating initial groups...\n",
            "[*] Merging groups...\n",
            "[*] Creating regions...\n",
            "[*] Calculating distances from max region...\n",
            "[*] Printing regions...\n",
            "\n",
            "\u001b[1;37m[\u001b[94mINFO:\u001b[0m\u001b[1;37m]\u001b[0m Multiple similar regions detected!\n",
            "\u001b[1;37m[\u001b[1;92mx\u001b[0m\u001b[1;37m]\u001b[0m\n",
            "Texts2: \n",
            "Successfully mined data\n",
            "None\n",
            "[*] Create DOM tree...\n",
            "[*] Calculating initial groups...\n",
            "[*] Merging groups...\n",
            "[*] Creating regions...\n",
            "[*] Calculating distances from max region...\n",
            "[*] Printing regions...\n",
            "\n",
            "\u001b[1;37m[\u001b[94mINFO:\u001b[0m\u001b[1;37m]\u001b[0m Multiple similar regions detected!\n",
            "\u001b[1;37m[\u001b[1;92mx\u001b[0m\u001b[1;37m]\u001b[0m\n",
            "Texts2: \n",
            "Successfully mined data\n",
            "None\n",
            "[*] Create DOM tree...\n",
            "[*] Calculating initial groups...\n",
            "[*] Merging groups...\n",
            "[*] Creating regions...\n",
            "[*] Calculating distances from max region...\n",
            "[*] Printing regions...\n",
            "\n",
            "\u001b[1;37m[\u001b[94mINFO:\u001b[0m\u001b[1;37m]\u001b[0m Multiple similar regions detected!\n",
            "\u001b[1;37m[\u001b[1;92mx\u001b[0m\u001b[1;37m]\u001b[0m\n",
            "Texts2: \n",
            "Successfully mined data\n",
            "None\n",
            "[*] Create DOM tree...\n",
            "[*] Calculating initial groups...\n",
            "[*] Merging groups...\n",
            "[*] Creating regions...\n",
            "[*] Calculating distances from max region...\n",
            "[*] Printing regions...\n",
            "\n",
            "\u001b[1;37m[\u001b[94mINFO:\u001b[0m\u001b[1;37m]\u001b[0m Multiple similar regions detected!\n",
            "\u001b[1;37m[\u001b[1;92mx\u001b[0m\u001b[1;37m]\u001b[0m\n",
            "Texts2: \n",
            "Successfully mined data\n",
            "None\n",
            "[*] Create DOM tree...\n",
            "[*] Calculating initial groups...\n",
            "[*] Merging groups...\n",
            "[*] Creating regions...\n",
            "[*] Calculating distances from max region...\n",
            "[*] Printing regions...\n",
            "\n",
            "\u001b[1;37m[\u001b[94mINFO:\u001b[0m\u001b[1;37m]\u001b[0m Multiple similar regions detected!\n",
            "\u001b[1;37m[\u001b[1;92mx\u001b[0m\u001b[1;37m]\u001b[0m\n",
            "Texts2: \n",
            "Successfully mined data\n",
            "None\n",
            "[*] Create DOM tree...\n",
            "[*] Calculating initial groups...\n",
            "[*] Merging groups...\n",
            "[*] Creating regions...\n",
            "[*] Calculating distances from max region...\n",
            "[*] Printing regions...\n",
            "\n",
            "\u001b[1;37m[\u001b[94mINFO:\u001b[0m\u001b[1;37m]\u001b[0m Multiple similar regions detected!\n",
            "\u001b[1;37m[\u001b[1;92mx\u001b[0m\u001b[1;37m]\u001b[0m\n",
            "Texts2: \n",
            "Successfully mined data\n",
            "None\n",
            "[*] Create DOM tree...\n",
            "[*] Calculating initial groups...\n",
            "[*] Merging groups...\n",
            "[*] Creating regions...\n",
            "[*] Calculating distances from max region...\n",
            "[*] Printing regions...\n",
            "\n",
            "\u001b[1;37m[\u001b[94mINFO:\u001b[0m\u001b[1;37m]\u001b[0m Multiple similar regions detected!\n",
            "\u001b[1;37m[\u001b[1;92mx\u001b[0m\u001b[1;37m]\u001b[0m\n",
            "Texts2: \n",
            "Successfully mined data\n",
            "None\n",
            "[*] Create DOM tree...\n",
            "[*] Calculating initial groups...\n",
            "[*] Merging groups...\n",
            "[*] Creating regions...\n",
            "[*] Calculating distances from max region...\n",
            "[*] Printing regions...\n",
            "\n",
            "\u001b[1;37m[\u001b[94mINFO:\u001b[0m\u001b[1;37m]\u001b[0m Multiple similar regions detected!\n",
            "\u001b[1;37m[\u001b[1;92mx\u001b[0m\u001b[1;37m]\u001b[0m\n",
            "Texts2: \n",
            "Successfully mined data\n",
            "None\n",
            "[*] Create DOM tree...\n",
            "[*] Calculating initial groups...\n",
            "[*] Merging groups...\n",
            "[*] Creating regions...\n",
            "[*] Calculating distances from max region...\n",
            "[*] Printing regions...\n",
            "\n",
            "\u001b[1;37m[\u001b[94mINFO:\u001b[0m\u001b[1;37m]\u001b[0m Multiple similar regions detected!\n",
            "\u001b[1;37m[\u001b[1;92mx\u001b[0m\u001b[1;37m]\u001b[0m\n",
            "Texts2: \n",
            "Successfully mined data\n",
            "None\n",
            "[*] Create DOM tree...\n",
            "[*] Calculating initial groups...\n",
            "[*] Merging groups...\n",
            "[*] Creating regions...\n",
            "[*] Calculating distances from max region...\n",
            "[*] Printing regions...\n",
            "\n",
            "\u001b[1;37m[\u001b[94mINFO:\u001b[0m\u001b[1;37m]\u001b[0m Multiple similar regions detected!\n",
            "\u001b[1;37m[\u001b[1;92mx\u001b[0m\u001b[1;37m]\u001b[0m\n",
            "Texts2: \n",
            "Successfully mined data\n",
            "None\n",
            "[*] Create DOM tree...\n",
            "[*] Calculating initial groups...\n",
            "[*] Merging groups...\n",
            "[*] Creating regions...\n",
            "[*] Calculating distances from max region...\n",
            "[*] Printing regions...\n",
            "\n",
            "\u001b[1;37m[\u001b[94mINFO:\u001b[0m\u001b[1;37m]\u001b[0m Multiple similar regions detected!\n",
            "\u001b[1;37m[\u001b[1;92mx\u001b[0m\u001b[1;37m]\u001b[0m\n",
            "Texts2: \n",
            "Successfully mined data\n",
            "None\n",
            "[*] Create DOM tree...\n",
            "[*] Calculating initial groups...\n",
            "[*] Merging groups...\n",
            "[*] Creating regions...\n",
            "[*] Calculating distances from max region...\n",
            "[*] Printing regions...\n",
            "\n",
            "\u001b[1;37m[\u001b[94mINFO:\u001b[0m\u001b[1;37m]\u001b[0m Multiple similar regions detected!\n",
            "\u001b[1;37m[\u001b[1;92mx\u001b[0m\u001b[1;37m]\u001b[0m\n",
            "Texts2: \n",
            "Successfully mined data\n",
            "None\n",
            "[*] Create DOM tree...\n",
            "[*] Calculating initial groups...\n",
            "[*] Merging groups...\n",
            "[*] Creating regions...\n",
            "[*] Calculating distances from max region...\n",
            "[*] Printing regions...\n",
            "\n",
            "\u001b[1;37m[\u001b[94mINFO:\u001b[0m\u001b[1;37m]\u001b[0m Multiple similar regions detected!\n",
            "\u001b[1;37m[\u001b[1;92mx\u001b[0m\u001b[1;37m]\u001b[0m\n",
            "Texts2: \n",
            "Successfully mined data\n",
            "None\n",
            "[*] Create DOM tree...\n",
            "[*] Calculating initial groups...\n",
            "[*] Merging groups...\n",
            "[*] Creating regions...\n",
            "[*] Calculating distances from max region...\n",
            "[*] Printing regions...\n",
            "\n",
            "\u001b[1;37m[\u001b[94mINFO:\u001b[0m\u001b[1;37m]\u001b[0m Multiple similar regions detected!\n",
            "\u001b[1;37m[\u001b[1;92mx\u001b[0m\u001b[1;37m]\u001b[0m\n",
            "Texts2: \n",
            "Successfully mined data\n",
            "None\n",
            "[*] Create DOM tree...\n",
            "[*] Calculating initial groups...\n",
            "[*] Merging groups...\n",
            "[*] Creating regions...\n",
            "[*] Calculating distances from max region...\n",
            "[*] Printing regions...\n",
            "\n",
            "\u001b[1;37m[\u001b[94mINFO:\u001b[0m\u001b[1;37m]\u001b[0m Multiple similar regions detected!\n",
            "\u001b[1;37m[\u001b[1;92mx\u001b[0m\u001b[1;37m]\u001b[0m\n",
            "Texts2: \n",
            "Successfully mined data\n",
            "None\n",
            "[*] Create DOM tree...\n",
            "[*] Calculating initial groups...\n",
            "[*] Merging groups...\n",
            "[*] Creating regions...\n",
            "[*] Calculating distances from max region...\n",
            "[*] Printing regions...\n",
            "\n",
            "\u001b[1;37m[\u001b[94mINFO:\u001b[0m\u001b[1;37m]\u001b[0m Multiple similar regions detected!\n",
            "\u001b[1;37m[\u001b[1;92mx\u001b[0m\u001b[1;37m]\u001b[0m\n",
            "Texts2: \n",
            "Successfully mined data\n",
            "None\n",
            "[*] Create DOM tree...\n",
            "[*] Calculating initial groups...\n",
            "[*] Merging groups...\n",
            "[*] Creating regions...\n",
            "[*] Calculating distances from max region...\n",
            "[*] Printing regions...\n",
            "\n",
            "\u001b[1;37m[\u001b[94mINFO:\u001b[0m\u001b[1;37m]\u001b[0m Multiple similar regions detected!\n",
            "\u001b[1;37m[\u001b[1;92mx\u001b[0m\u001b[1;37m]\u001b[0m\n",
            "Texts2: \n",
            "Successfully mined data\n",
            "None\n",
            "[*] Create DOM tree...\n",
            "[*] Calculating initial groups...\n",
            "[*] Merging groups...\n",
            "[*] Creating regions...\n",
            "[*] Calculating distances from max region...\n",
            "[*] Printing regions...\n",
            "\n",
            "\u001b[1;37m[\u001b[94mINFO:\u001b[0m\u001b[1;37m]\u001b[0m Multiple similar regions detected!\n",
            "\u001b[1;37m[\u001b[1;92mx\u001b[0m\u001b[1;37m]\u001b[0m\n",
            "Texts2: \n",
            "Successfully mined data\n",
            "None\n",
            "[*] Create DOM tree...\n",
            "[*] Calculating initial groups...\n",
            "[*] Merging groups...\n",
            "[*] Creating regions...\n",
            "[*] Calculating distances from max region...\n",
            "[*] Printing regions...\n",
            "\n",
            "\u001b[1;37m[\u001b[94mINFO:\u001b[0m\u001b[1;37m]\u001b[0m Multiple similar regions detected!\n",
            "\u001b[1;37m[\u001b[1;92mx\u001b[0m\u001b[1;37m]\u001b[0m\n",
            "Texts2: \n",
            "Successfully mined data\n",
            "None\n",
            "[*] Create DOM tree...\n",
            "[*] Calculating initial groups...\n",
            "[*] Merging groups...\n",
            "[*] Creating regions...\n",
            "[*] Calculating distances from max region...\n",
            "[*] Printing regions...\n",
            "\n",
            "\u001b[1;37m[\u001b[94mINFO:\u001b[0m\u001b[1;37m]\u001b[0m Multiple similar regions detected!\n",
            "\u001b[1;37m[\u001b[1;92mx\u001b[0m\u001b[1;37m]\u001b[0m\n",
            "Texts2: \n",
            "Successfully mined data\n",
            "None\n",
            "[*] Create DOM tree...\n",
            "[*] Calculating initial groups...\n",
            "[*] Merging groups...\n",
            "[*] Creating regions...\n",
            "[*] Calculating distances from max region...\n",
            "[*] Printing regions...\n",
            "\n",
            "\u001b[1;37m[\u001b[94mINFO:\u001b[0m\u001b[1;37m]\u001b[0m Multiple similar regions detected!\n",
            "\u001b[1;37m[\u001b[1;92mx\u001b[0m\u001b[1;37m]\u001b[0m\n",
            "Texts2: \n",
            "Successfully mined data\n",
            "None\n",
            "[*] Create DOM tree...\n",
            "[*] Calculating initial groups...\n",
            "[*] Merging groups...\n",
            "[*] Creating regions...\n",
            "[*] Calculating distances from max region...\n",
            "[*] Printing regions...\n",
            "\n",
            "\u001b[1;37m[\u001b[94mINFO:\u001b[0m\u001b[1;37m]\u001b[0m Multiple similar regions detected!\n",
            "\u001b[1;37m[\u001b[1;92mx\u001b[0m\u001b[1;37m]\u001b[0m\n",
            "Texts2: \n",
            "Successfully mined data\n",
            "None\n",
            "[*] Create DOM tree...\n",
            "[*] Calculating initial groups...\n",
            "[*] Merging groups...\n",
            "[*] Creating regions...\n",
            "[*] Calculating distances from max region...\n",
            "[*] Printing regions...\n",
            "\n",
            "\u001b[1;37m[\u001b[94mINFO:\u001b[0m\u001b[1;37m]\u001b[0m Multiple similar regions detected!\n",
            "\u001b[1;37m[\u001b[1;92mx\u001b[0m\u001b[1;37m]\u001b[0m\n",
            "Texts2: \n",
            "Successfully mined data\n",
            "None\n",
            "[*] Create DOM tree...\n",
            "[*] Calculating initial groups...\n",
            "[*] Merging groups...\n",
            "[*] Creating regions...\n",
            "[*] Calculating distances from max region...\n",
            "[*] Printing regions...\n",
            "\n",
            "\u001b[1;37m[\u001b[94mINFO:\u001b[0m\u001b[1;37m]\u001b[0m Multiple similar regions detected!\n",
            "\u001b[1;37m[\u001b[1;92mx\u001b[0m\u001b[1;37m]\u001b[0m\n",
            "Texts2: \n",
            "Successfully mined data\n",
            "None\n",
            "[*] Create DOM tree...\n",
            "[*] Calculating initial groups...\n",
            "[*] Merging groups...\n",
            "[*] Creating regions...\n",
            "[*] Calculating distances from max region...\n",
            "[*] Printing regions...\n",
            "\n",
            "\u001b[1;37m[\u001b[94mINFO:\u001b[0m\u001b[1;37m]\u001b[0m Multiple similar regions detected!\n",
            "\u001b[1;37m[\u001b[1;92mx\u001b[0m\u001b[1;37m]\u001b[0m\n",
            "Texts2: \n",
            "Successfully mined data\n",
            "None\n",
            "[*] Create DOM tree...\n",
            "[*] Calculating initial groups...\n",
            "[*] Merging groups...\n",
            "[*] Creating regions...\n",
            "[*] Calculating distances from max region...\n",
            "[*] Printing regions...\n",
            "\n",
            "\u001b[1;37m[\u001b[94mINFO:\u001b[0m\u001b[1;37m]\u001b[0m Multiple similar regions detected!\n",
            "\u001b[1;37m[\u001b[1;92mx\u001b[0m\u001b[1;37m]\u001b[0m\n",
            "Texts2: \n",
            "Successfully mined data\n",
            "None\n",
            "[*] Create DOM tree...\n",
            "[*] Calculating initial groups...\n",
            "[*] Merging groups...\n",
            "[*] Creating regions...\n",
            "[*] Calculating distances from max region...\n",
            "[*] Printing regions...\n",
            "\n",
            "\u001b[1;37m[\u001b[94mINFO:\u001b[0m\u001b[1;37m]\u001b[0m Multiple similar regions detected!\n",
            "\u001b[1;37m[\u001b[1;92mx\u001b[0m\u001b[1;37m]\u001b[0m\n",
            "Texts2: \n",
            "Successfully mined data\n",
            "None\n",
            "[*] Create DOM tree...\n",
            "[*] Calculating initial groups...\n",
            "[*] Merging groups...\n",
            "[*] Creating regions...\n",
            "[*] Calculating distances from max region...\n",
            "[*] Printing regions...\n",
            "\n",
            "\u001b[1;37m[\u001b[94mINFO:\u001b[0m\u001b[1;37m]\u001b[0m Multiple similar regions detected!\n",
            "\u001b[1;37m[\u001b[1;92mx\u001b[0m\u001b[1;37m]\u001b[0m\n",
            "Texts2: \n",
            "Successfully mined data\n",
            "None\n",
            "[*] Create DOM tree...\n",
            "[*] Calculating initial groups...\n",
            "[*] Merging groups...\n",
            "[*] Creating regions...\n",
            "[*] Calculating distances from max region...\n",
            "[*] Printing regions...\n",
            "\n",
            "\u001b[1;37m[\u001b[94mINFO:\u001b[0m\u001b[1;37m]\u001b[0m Multiple similar regions detected!\n",
            "\u001b[1;37m[\u001b[1;92mx\u001b[0m\u001b[1;37m]\u001b[0m\n",
            "Texts2: \n",
            "Successfully mined data\n",
            "None\n",
            "[*] Create DOM tree...\n",
            "[*] Calculating initial groups...\n",
            "[*] Merging groups...\n",
            "[*] Creating regions...\n",
            "[*] Calculating distances from max region...\n",
            "[*] Printing regions...\n",
            "\n",
            "\u001b[1;37m[\u001b[94mINFO:\u001b[0m\u001b[1;37m]\u001b[0m Multiple similar regions detected!\n",
            "\u001b[1;37m[\u001b[1;92mx\u001b[0m\u001b[1;37m]\u001b[0m\n",
            "Texts2: \n",
            "Successfully mined data\n",
            "None\n",
            "[*] Create DOM tree...\n",
            "[*] Calculating initial groups...\n",
            "[*] Merging groups...\n",
            "[*] Creating regions...\n",
            "[*] Calculating distances from max region...\n",
            "[*] Printing regions...\n",
            "\n",
            "\u001b[1;37m[\u001b[94mINFO:\u001b[0m\u001b[1;37m]\u001b[0m Multiple similar regions detected!\n",
            "\u001b[1;37m[\u001b[1;92mx\u001b[0m\u001b[1;37m]\u001b[0m\n",
            "Texts2: \n",
            "Successfully mined data\n",
            "None\n",
            "[*] Create DOM tree...\n",
            "[*] Calculating initial groups...\n",
            "[*] Merging groups...\n",
            "[*] Creating regions...\n",
            "[*] Calculating distances from max region...\n",
            "[*] Printing regions...\n",
            "\n",
            "\u001b[1;37m[\u001b[94mINFO:\u001b[0m\u001b[1;37m]\u001b[0m Multiple similar regions detected!\n",
            "\u001b[1;37m[\u001b[1;92mx\u001b[0m\u001b[1;37m]\u001b[0m\n",
            "Texts2: \n",
            "Successfully mined data\n",
            "None\n"
          ],
          "name": "stdout"
        }
      ]
    },
    {
      "cell_type": "code",
      "metadata": {
        "colab": {
          "base_uri": "https://localhost:8080/"
        },
        "id": "nQMQVjRxl5Lm",
        "outputId": "8f884dcd-03a0-43d3-b8c9-10aa01c0a975"
      },
      "source": [
        "# If we check the drive now, we find our mined csv file present ready to be used\n",
        "!ls"
      ],
      "execution_count": 3,
      "outputs": [
        {
          "output_type": "stream",
          "text": [
            "mined_news.csv\t     __pycache__  sd_algorithm.py     tokenizer.pickle\n",
            "miningnewsSpyder.py  region.py\t  terminal_colors.py\n"
          ],
          "name": "stdout"
        }
      ]
    },
    {
      "cell_type": "code",
      "metadata": {
        "id": "nzY-g_5V3flL"
      },
      "source": [
        "import pandas as pd"
      ],
      "execution_count": 5,
      "outputs": []
    },
    {
      "cell_type": "code",
      "metadata": {
        "colab": {
          "base_uri": "https://localhost:8080/",
          "height": 195
        },
        "id": "VxymHJ8bavoP",
        "outputId": "42a7d366-1245-47dd-9762-88916d26a48f"
      },
      "source": [
        "df = pd.read_csv(\"mined_news.csv\")\n",
        "df.head()"
      ],
      "execution_count": 6,
      "outputs": [
        {
          "output_type": "execute_result",
          "data": {
            "text/html": [
              "<div>\n",
              "<style scoped>\n",
              "    .dataframe tbody tr th:only-of-type {\n",
              "        vertical-align: middle;\n",
              "    }\n",
              "\n",
              "    .dataframe tbody tr th {\n",
              "        vertical-align: top;\n",
              "    }\n",
              "\n",
              "    .dataframe thead th {\n",
              "        text-align: right;\n",
              "    }\n",
              "</style>\n",
              "<table border=\"1\" class=\"dataframe\">\n",
              "  <thead>\n",
              "    <tr style=\"text-align: right;\">\n",
              "      <th></th>\n",
              "      <th>Unnamed: 0</th>\n",
              "      <th>content</th>\n",
              "      <th>content_category</th>\n",
              "      <th>link</th>\n",
              "    </tr>\n",
              "  </thead>\n",
              "  <tbody>\n",
              "    <tr>\n",
              "      <th>0</th>\n",
              "      <td>0</td>\n",
              "      <td>('multiple', None, None, ['\\nWashington — Form...</td>\n",
              "      <td>politics</td>\n",
              "      <td>https://www.cbsnews.com/news/gottlieb-covid-in...</td>\n",
              "    </tr>\n",
              "    <tr>\n",
              "      <th>1</th>\n",
              "      <td>1</td>\n",
              "      <td>('multiple', None, None, ['\\nVaccine hesitancy...</td>\n",
              "      <td>politics</td>\n",
              "      <td>https://www.cbsnews.com/news/evangelical-churc...</td>\n",
              "    </tr>\n",
              "    <tr>\n",
              "      <th>2</th>\n",
              "      <td>2</td>\n",
              "      <td>('multiple', None, None, ['\\nWhite House econo...</td>\n",
              "      <td>politics</td>\n",
              "      <td>https://www.cbsnews.com/news/tax-increase-corp...</td>\n",
              "    </tr>\n",
              "    <tr>\n",
              "      <th>3</th>\n",
              "      <td>3</td>\n",
              "      <td>('multiple', None, None, ['\\nEvidence shows ex...</td>\n",
              "      <td>politics</td>\n",
              "      <td>https://www.cbsnews.com/news/capitol-riot-arre...</td>\n",
              "    </tr>\n",
              "    <tr>\n",
              "      <th>4</th>\n",
              "      <td>4</td>\n",
              "      <td>('multiple', None, None, ['\\nCapitol Police fo...</td>\n",
              "      <td>politics</td>\n",
              "      <td>https://www.cbsnews.com/news/william-evans-cap...</td>\n",
              "    </tr>\n",
              "  </tbody>\n",
              "</table>\n",
              "</div>"
            ],
            "text/plain": [
              "   Unnamed: 0  ...                                               link\n",
              "0           0  ...  https://www.cbsnews.com/news/gottlieb-covid-in...\n",
              "1           1  ...  https://www.cbsnews.com/news/evangelical-churc...\n",
              "2           2  ...  https://www.cbsnews.com/news/tax-increase-corp...\n",
              "3           3  ...  https://www.cbsnews.com/news/capitol-riot-arre...\n",
              "4           4  ...  https://www.cbsnews.com/news/william-evans-cap...\n",
              "\n",
              "[5 rows x 4 columns]"
            ]
          },
          "metadata": {
            "tags": []
          },
          "execution_count": 6
        }
      ]
    },
    {
      "cell_type": "code",
      "metadata": {
        "colab": {
          "base_uri": "https://localhost:8080/"
        },
        "id": "NLbkjP5A3TZt",
        "outputId": "8a83d8dc-66a4-4026-d6df-9e67684b9868"
      },
      "source": [
        "pd.set_option('display.max_colwidth', 100)\n",
        "df[\"content\"]"
      ],
      "execution_count": 7,
      "outputs": [
        {
          "output_type": "execute_result",
          "data": {
            "text/plain": [
              "0     ('multiple', None, None, ['\\nWashington — Former Food and Drug Administration Commissioner Dr. S...\n",
              "1     ('multiple', None, None, ['\\nVaccine hesitancy in the evangelical communit...It\\'s a case that w...\n",
              "2     ('multiple', None, None, ['\\nWhite House economic adviser says infrastruct...More than two dozen...\n",
              "3     ('multiple', None, None, ['\\nEvidence shows extremists coordinated Capitol...broke into the U.S....\n",
              "4     ('multiple', None, None, ['\\nCapitol Police force reeling after fatal car ...Washington — U.S. C...\n",
              "                                                     ...                                                 \n",
              "91    ('multiple', None, None, ['\\nucy Campbell was 11 years old when her parents sent her to an indep...\n",
              "92    ('multiple', None, None, ['\\nWell, now that Godzilla vs Kong is out, it looks like we’re back on...\n",
              "93    ('multiple', None, None, ['\\nTributes have been paid to Sarah Hughes, the Observer and Guardian ...\n",
              "94    ('multiple', None, None, ['\\nt happens about once a year. A film is released, often featuring ma...\n",
              "95    ('multiple', None, None, ['\\nven if the sun is only coming out now and again, the lifting of res...\n",
              "Name: content, Length: 96, dtype: object"
            ]
          },
          "metadata": {
            "tags": []
          },
          "execution_count": 7
        }
      ]
    },
    {
      "cell_type": "markdown",
      "metadata": {
        "id": "FRf-d53zkcMV"
      },
      "source": [
        "## Let's clean the data"
      ]
    },
    {
      "cell_type": "code",
      "metadata": {
        "colab": {
          "base_uri": "https://localhost:8080/",
          "height": 120
        },
        "id": "HHICIGWJ-5hv",
        "outputId": "c6138ed3-e00c-4d10-d0a3-8eeff7eca155"
      },
      "source": [
        "# let's clean the data\n",
        "df[\"content\"][95][29:-5]"
      ],
      "execution_count": 8,
      "outputs": [
        {
          "output_type": "execute_result",
          "data": {
            "application/vnd.google.colaboratory.intrinsic+json": {
              "type": "string"
            },
            "text/plain": [
              "'ven if the sun is only coming out now and again, the lifting of restrictions means many of us will be thinking itâ\\\\x80\\\\x99s barbecue time. And while it may be easy to get overexcited and just sling a bunch of supermarket burgers on the grill, a special occasion like this calls for a bit of an effort. Here are 10 recipes for homemade burgers. My suggestion is that you try them all. Felicity Cloakeâ\\\\x80\\\\x99s perfect hamburger.A quick warning before we start: this list features the â\\\\x80\\\\x9cdouble Cloakeâ\\\\x80\\\\x9d. If youâ\\\\x80\\\\x99re new to making any type of food, the place to start is always Felicity Cloakeâ\\\\x80\\\\x99s â\\\\x80\\\\x9cperfectâ\\\\x80\\\\x9d series. Her hamburger recipe is all the proof you should need. She has done the work here, so even the slightly more outre additions (ie Guinness) make perfect sense. \\\\nCloake part two is her recipe for vegan bean burgers. Like all vegan burgers, this requires a lot more ingredients than a meat-based burger â\\\\x80\\\\x93 potato, broad beans, black beans, onion, garlic, coriander seeds, coriander leaves â\\\\x80\\\\x93 but the effort pays off. Also pay attention to the burger sauce here, which is thickened with exactly 12 cooked chickpeas. \\\\nA vegan burger â\\\\x80¦ the effort pays off.And now, to class things up a bit, hereâ\\\\x80\\\\x99s Nigel Slater with a quince pork burger. It is, as youâ\\\\x80\\\\x99d expect, a pork burger flavoured with sweetly sharp quince paste. Slater calls this â\\\\x80\\\\x9ca ravishingly good little burgerâ\\\\x80\\\\x9d. He also advocates frying the onion off a little before adding it to the meat, and I concur. If you want your friends to think that you have become really fancy over lockdown, this is the burger to serve. \\\\nPeople declare the tall burger dead all the time, and yet it clings on to life. So, for the last time: stop making tall burgers. Thin burgers taste better and have a much more pleasant texture. More importantly, you can eat them without looking like a snake eating an egg. Look at Bon AppÃ©titâ\\\\x80\\\\x99s smash burger recipe. Itâ\\\\x80\\\\x99s just seasoned beef that gets smashed down on the griddle with a spatula while it cooks. And itâ\\\\x80\\\\x99s ready in three minutes. \\\\nAs a vegan alternative, hereâ\\\\x80\\\\x99s Avant Garde Veganâ\\\\x80\\\\x99s plant-based â\\\\x80\\\\x98In & Out burgerâ\\\\x80\\\\x99. Again, this requires a ton of ingredients â\\\\x80\\\\x93 this time black beans, miso paste, Marmite, wheat gluten, soy sauce â\\\\x80\\\\x93 and they have to be steamed for an hour and then cooled before you can grill them. But itâ\\\\x80\\\\x99s worth it because these are pretty flipping close to the real thing. \\\\nVietnamese-style burgers.Now, letâ\\\\x80\\\\x99s explore the outer reaches of the burger world together. A 2013 Guardian-readersâ\\\\x80\\\\x99 recipe-swap article threw up a beautiful salty/sweet Vietnamese bun cha recipe. The pork patties contain chicken stock powder, fish sauce and actual caramel, but all the cloyingness this suggests is offset by the sharp stab of pickled carrots and papaya. â\\\\x80\\\\x9cYou can smell the pork sizzling on the makeshift barbecues all around Hanoi,â\\\\x80\\\\x9d says Jess Waller, who submitted the recipe, and I have never missed foreign travel more. \\\\nI should also draw your attention to Anna Jonesâ\\\\x80\\\\x99s carrot burger. A bunch of carrots, roasted with paprika and cumin, blitzed with tofu and formed into buns. Just to add to the sensation of California-style clean eating, you can pile the burgers high with Jonesâ\\\\x80\\\\x99s avocado and cherry tomato salsa. \\\\nThe Bosh! Boys have a recipe for bhaji burgers that, while it seems designed to give purists a heart attack, happens to be quite delicious. As they put it, these deep-fried beauties are â\\\\x80\\\\x9cgreat with mint raita, or you can make smaller bhaji bites and serve them with curryâ\\\\x80\\\\x9d. \\\\nThe final meat-free recipe today is vegetarian rather than vegan, and for good reason. Itâ\\\\x80\\\\x99s Kitchen Sanctuaryâ\\\\x80\\\\x99s cheesy veggie burgers, and as such contains quite a lot of egg, cream and cheese. Theyâ\\\\x80\\\\x99re all cooked into the patty along with carrots, potatoes and green beans. If you havenâ\\\\x80\\\\x99t quite made the leap to veganism yet, this is a pretty good treat. \\\\nNow, finally, remember when I cancelled the tall burger? Well, Iâ\\\\x80\\\\x99m going to uncancel it, but only for a moment. The way I see it, if youâ\\\\x80\\\\x99re going to make a tall burger, you should make it so tall that itâ\\\\x80\\\\x99s impossible to eat. And thatâ\\\\x80\\\\x99s where Calgary food truck Alley Burgerâ\\\\x80\\\\x99s whole truck burger comes in. Thereâ\\\\x80\\\\x99s a giant slab of meat, covered in cheese curd and topped with a fried egg, four rashers of bacon, lettuce, tomatoes, pickles, jalapeÃ±os, onion and aioli. Genuinely obscene. '"
            ]
          },
          "metadata": {
            "tags": []
          },
          "execution_count": 8
        }
      ]
    },
    {
      "cell_type": "code",
      "metadata": {
        "colab": {
          "base_uri": "https://localhost:8080/",
          "height": 204
        },
        "id": "TwlVhckq568G",
        "outputId": "b22aaf49-6381-4b6b-f2c3-ed8da1293b74"
      },
      "source": [
        "# Removing irrelevant texts at the end and beginning of the article\n",
        "for i in range(len(df['content'])):\n",
        "  df['content'][i] = df['content'][i][29:-5]\n",
        "df['content'][95]"
      ],
      "execution_count": 9,
      "outputs": [
        {
          "output_type": "stream",
          "text": [
            "/usr/local/lib/python3.7/dist-packages/ipykernel_launcher.py:3: SettingWithCopyWarning: \n",
            "A value is trying to be set on a copy of a slice from a DataFrame\n",
            "\n",
            "See the caveats in the documentation: https://pandas.pydata.org/pandas-docs/stable/user_guide/indexing.html#returning-a-view-versus-a-copy\n",
            "  This is separate from the ipykernel package so we can avoid doing imports until\n"
          ],
          "name": "stderr"
        },
        {
          "output_type": "execute_result",
          "data": {
            "application/vnd.google.colaboratory.intrinsic+json": {
              "type": "string"
            },
            "text/plain": [
              "'ven if the sun is only coming out now and again, the lifting of restrictions means many of us will be thinking itâ\\\\x80\\\\x99s barbecue time. And while it may be easy to get overexcited and just sling a bunch of supermarket burgers on the grill, a special occasion like this calls for a bit of an effort. Here are 10 recipes for homemade burgers. My suggestion is that you try them all. Felicity Cloakeâ\\\\x80\\\\x99s perfect hamburger.A quick warning before we start: this list features the â\\\\x80\\\\x9cdouble Cloakeâ\\\\x80\\\\x9d. If youâ\\\\x80\\\\x99re new to making any type of food, the place to start is always Felicity Cloakeâ\\\\x80\\\\x99s â\\\\x80\\\\x9cperfectâ\\\\x80\\\\x9d series. Her hamburger recipe is all the proof you should need. She has done the work here, so even the slightly more outre additions (ie Guinness) make perfect sense. \\\\nCloake part two is her recipe for vegan bean burgers. Like all vegan burgers, this requires a lot more ingredients than a meat-based burger â\\\\x80\\\\x93 potato, broad beans, black beans, onion, garlic, coriander seeds, coriander leaves â\\\\x80\\\\x93 but the effort pays off. Also pay attention to the burger sauce here, which is thickened with exactly 12 cooked chickpeas. \\\\nA vegan burger â\\\\x80¦ the effort pays off.And now, to class things up a bit, hereâ\\\\x80\\\\x99s Nigel Slater with a quince pork burger. It is, as youâ\\\\x80\\\\x99d expect, a pork burger flavoured with sweetly sharp quince paste. Slater calls this â\\\\x80\\\\x9ca ravishingly good little burgerâ\\\\x80\\\\x9d. He also advocates frying the onion off a little before adding it to the meat, and I concur. If you want your friends to think that you have become really fancy over lockdown, this is the burger to serve. \\\\nPeople declare the tall burger dead all the time, and yet it clings on to life. So, for the last time: stop making tall burgers. Thin burgers taste better and have a much more pleasant texture. More importantly, you can eat them without looking like a snake eating an egg. Look at Bon AppÃ©titâ\\\\x80\\\\x99s smash burger recipe. Itâ\\\\x80\\\\x99s just seasoned beef that gets smashed down on the griddle with a spatula while it cooks. And itâ\\\\x80\\\\x99s ready in three minutes. \\\\nAs a vegan alternative, hereâ\\\\x80\\\\x99s Avant Garde Veganâ\\\\x80\\\\x99s plant-based â\\\\x80\\\\x98In & Out burgerâ\\\\x80\\\\x99. Again, this requires a ton of ingredients â\\\\x80\\\\x93 this time black beans, miso paste, Marmite, wheat gluten, soy sauce â\\\\x80\\\\x93 and they have to be steamed for an hour and then cooled before you can grill them. But itâ\\\\x80\\\\x99s worth it because these are pretty flipping close to the real thing. \\\\nVietnamese-style burgers.Now, letâ\\\\x80\\\\x99s explore the outer reaches of the burger world together. A 2013 Guardian-readersâ\\\\x80\\\\x99 recipe-swap article threw up a beautiful salty/sweet Vietnamese bun cha recipe. The pork patties contain chicken stock powder, fish sauce and actual caramel, but all the cloyingness this suggests is offset by the sharp stab of pickled carrots and papaya. â\\\\x80\\\\x9cYou can smell the pork sizzling on the makeshift barbecues all around Hanoi,â\\\\x80\\\\x9d says Jess Waller, who submitted the recipe, and I have never missed foreign travel more. \\\\nI should also draw your attention to Anna Jonesâ\\\\x80\\\\x99s carrot burger. A bunch of carrots, roasted with paprika and cumin, blitzed with tofu and formed into buns. Just to add to the sensation of California-style clean eating, you can pile the burgers high with Jonesâ\\\\x80\\\\x99s avocado and cherry tomato salsa. \\\\nThe Bosh! Boys have a recipe for bhaji burgers that, while it seems designed to give purists a heart attack, happens to be quite delicious. As they put it, these deep-fried beauties are â\\\\x80\\\\x9cgreat with mint raita, or you can make smaller bhaji bites and serve them with curryâ\\\\x80\\\\x9d. \\\\nThe final meat-free recipe today is vegetarian rather than vegan, and for good reason. Itâ\\\\x80\\\\x99s Kitchen Sanctuaryâ\\\\x80\\\\x99s cheesy veggie burgers, and as such contains quite a lot of egg, cream and cheese. Theyâ\\\\x80\\\\x99re all cooked into the patty along with carrots, potatoes and green beans. If you havenâ\\\\x80\\\\x99t quite made the leap to veganism yet, this is a pretty good treat. \\\\nNow, finally, remember when I cancelled the tall burger? Well, Iâ\\\\x80\\\\x99m going to uncancel it, but only for a moment. The way I see it, if youâ\\\\x80\\\\x99re going to make a tall burger, you should make it so tall that itâ\\\\x80\\\\x99s impossible to eat. And thatâ\\\\x80\\\\x99s where Calgary food truck Alley Burgerâ\\\\x80\\\\x99s whole truck burger comes in. Thereâ\\\\x80\\\\x99s a giant slab of meat, covered in cheese curd and topped with a fried egg, four rashers of bacon, lettuce, tomatoes, pickles, jalapeÃ±os, onion and aioli. Genuinely obscene. '"
            ]
          },
          "metadata": {
            "tags": []
          },
          "execution_count": 9
        }
      ]
    },
    {
      "cell_type": "code",
      "metadata": {
        "id": "I-d1yn23cgK2"
      },
      "source": [
        "# Cleaning texts input from articles and removing special characters\n",
        "import re\n",
        "import string\n",
        "from html.parser import HTMLParser\n",
        "from nltk.corpus import stopwords\n",
        "import nltk"
      ],
      "execution_count": 10,
      "outputs": []
    },
    {
      "cell_type": "code",
      "metadata": {
        "colab": {
          "base_uri": "https://localhost:8080/"
        },
        "id": "EyVY3GC3nPlu",
        "outputId": "20aa4e7c-f971-468d-c371-67554819248b"
      },
      "source": [
        "df.info()"
      ],
      "execution_count": 11,
      "outputs": [
        {
          "output_type": "stream",
          "text": [
            "<class 'pandas.core.frame.DataFrame'>\n",
            "RangeIndex: 96 entries, 0 to 95\n",
            "Data columns (total 4 columns):\n",
            " #   Column            Non-Null Count  Dtype \n",
            "---  ------            --------------  ----- \n",
            " 0   Unnamed: 0        96 non-null     int64 \n",
            " 1   content           96 non-null     object\n",
            " 2   content_category  96 non-null     object\n",
            " 3   link              96 non-null     object\n",
            "dtypes: int64(1), object(3)\n",
            "memory usage: 3.1+ KB\n"
          ],
          "name": "stdout"
        }
      ]
    },
    {
      "cell_type": "code",
      "metadata": {
        "colab": {
          "base_uri": "https://localhost:8080/"
        },
        "id": "iS0bzpdK7Dop",
        "outputId": "7ac7e6df-9ea1-4a37-92de-5acb99d47af3"
      },
      "source": [
        "nltk.download('stopwords')\n",
        "stopwords_eng = stopwords.words('english') "
      ],
      "execution_count": 12,
      "outputs": [
        {
          "output_type": "stream",
          "text": [
            "[nltk_data] Downloading package stopwords to /root/nltk_data...\n",
            "[nltk_data]   Unzipping corpora/stopwords.zip.\n"
          ],
          "name": "stdout"
        }
      ]
    },
    {
      "cell_type": "code",
      "metadata": {
        "id": "R7bGGW07m9UI"
      },
      "source": [
        "# Function to clean texts\n",
        "def clean_content(content):\n",
        "  # Removing html characters\n",
        "  content = HTMLParser().unescape(content)\n",
        "  content = content.lower()\n",
        "  \n",
        "  # clean by removing urls and hashtags\n",
        "  content = re.sub(r'https?:\\/\\/.\\S+', \"\", content)\n",
        "  content = re.sub(r'#', '', content)\n",
        "  content = re.sub(r'^RT[\\s]+', '', content)\n",
        "\n",
        "  content_tokens = content.split()\n",
        "  content_list=[]\n",
        "  for word in content_tokens:\n",
        "    if word not in stopwords_eng:\n",
        "      content_list.append(word)\n",
        "\n",
        "  # Remove punctuations\n",
        "  clean_content = []\n",
        "  for word in content_list:\n",
        "    if word not in string.punctuation:\n",
        "      clean_content.append(word)\n",
        "\n",
        "  return clean_content"
      ],
      "execution_count": 13,
      "outputs": []
    },
    {
      "cell_type": "code",
      "metadata": {
        "id": "Y3gMiI6z2lGn"
      },
      "source": [
        "def list_to_String(content): \n",
        "    strings = \" \"   \n",
        "    return (strings.join(content))"
      ],
      "execution_count": 14,
      "outputs": []
    },
    {
      "cell_type": "code",
      "metadata": {
        "colab": {
          "base_uri": "https://localhost:8080/",
          "height": 238
        },
        "id": "coCBAUve4Ct-",
        "outputId": "fab3e4ed-6f18-4208-c2c3-731d10afc595"
      },
      "source": [
        "# Clean content\n",
        "for i in range(len(df['content'])):\n",
        "  clean_cont = clean_content(df['content'][i])\n",
        "  clean_cont = list_to_String(clean_cont)\n",
        "  df['content'][i] = clean_cont\n",
        "df['content'][0]"
      ],
      "execution_count": 15,
      "outputs": [
        {
          "output_type": "stream",
          "text": [
            "/usr/local/lib/python3.7/dist-packages/ipykernel_launcher.py:4: DeprecationWarning: The unescape method is deprecated and will be removed in 3.5, use html.unescape() instead.\n",
            "  after removing the cwd from sys.path.\n",
            "/usr/local/lib/python3.7/dist-packages/ipykernel_launcher.py:5: SettingWithCopyWarning: \n",
            "A value is trying to be set on a copy of a slice from a DataFrame\n",
            "\n",
            "See the caveats in the documentation: https://pandas.pydata.org/pandas-docs/stable/user_guide/indexing.html#returning-a-view-versus-a-copy\n",
            "  \"\"\"\n"
          ],
          "name": "stderr"
        },
        {
          "output_type": "execute_result",
          "data": {
            "application/vnd.google.colaboratory.intrinsic+json": {
              "type": "string"
            },
            "text/plain": [
              "'washington — former food drug administration commissioner dr. scott gottlieb sunday said rise coronavirus infections among young people driving new outbreaks states, believe \"true\" fourth wave pandemic.\\\\n\"what we\\\\\\'re seeing pockets infection around country, particularly younger people haven\\\\\\'t vaccinated also school-aged children,\" gottlieb said interview \"face nation,\" noting rise cases among school-aged kids michigan, minnesota massachusetts.\\\\xa0\\\\n\"you\\\\\\'re seeing outbreaks schools infections social cohorts haven\\\\\\'t exposed virus before, maybe better job sheltering, they\\\\\\'re getting exposed virus they\\\\\\'re getting infected,\" continued. \"the infection changing contours terms who\\\\\\'s stricken right now.\"\\\\ntranscript: dr. scott gottlieb \"face nation\"with coronavirus cases rising 27 states district columbia, public health officials urging americans remain vigilant following mitigation measures. rate vaccinations continues accelerate — 4 million doses administered friday alone — roughly 130 million americans already contracted covid-19, gottlieb said level immunity u.s. head fourth wave pandemic.\\\\nas saturday, 104 million americans received least one dose coronavirus vaccine, 59.8 million americans fully vaccinated, according data centers disease control prevention.\\\\n\"you somewhere around 200 million americans level immunity already,\" said. \"i think there\\\\\\'s enough immunity population you\\\\\\'re going see true fourth wave infection.\"\\\\nwhile young people becoming infected covid-19, gottlieb said believe schools close doors in-person learning, instead made safer combat spread virus.\\\\n\"i think need stick strict mitigation schools, schools use masks, schools implement kind distancing, one epidemiologist referred week, go \\\\\\'full harry potter\\\\\\' try keep students within defined social cohorts they\\\\\\'re intermingling large groups,\" said. \"if you\\\\\\'re taking measures schools, think schools made safe, think benefits school outweigh risks. need cognizant fact schools risk factor, children vulnerable infection schools become focal points community spread we\\\\\\'re careful.\"\\\\ncoronavirus vaccines moderna johnson johnson authorized adults ages 18 older, pfizer\\\\\\'s vaccine approved people young 16. pfizer moderna testing vaccines children 12 older beginning clinical trials shots young children.\\\\xa0\\\\npfizer announced last week study 2,260 u.s. volunteers 12 15 years old, vaccine found safe demonstrated 100% efficacy. gottlieb member pfizer\\\\\\'s board directors.\\\\nvaccinating children crucial getting schools reopened helping u.s. reach herd immunity, dr. anthony fauci, chief medical adviser president biden, said friday believes\\\\xa0there could enough information able safely vaccinate children age end year.\\\\ngottlieb said believes fda could authorize pfizer\\\\\\'s vaccine emergency use children ages 12 15 time available start school year, warned could longer children younger 12 approved get shots.\\\\n\"i think we\\\\\\'re going position vaccinate 12 fall,\" said. \"i think younger could take time you\\\\\\'re going want test lot different doses try find lowest possible dose still providing robust immune response kids.\"\\\\neven though public health officials warning americans buck guidelines rise coronavirus infections, families continuing travel spring break holiday, transportation security administration reported spike airport screenings.\\\\ngottlieb encouraged health officials issue guidance public largely follow said it\\\\\\'s important urge caution.\\\\xa0\\\\n\"you don\\\\\\'t want step aspirations public public going ultimately engage guidance gets ignored. issue guidance context public\\\\\\'s willing do,\" said.\\\\xa0\\\\nstill, gottlieb stressed u.s. remains \"high-prevalence environment\" new coronavirus variants circulating.\\\\n\"we don\\\\\\'t want position extend epidemic weren\\\\\\'t prudent steps taking right now,\" said. \"that said, people sensing there\\\\\\'s less risk overall. people get vaccinated, feel they\\\\\\'re less risk are, based vaccination. they\\\\\\'re willing start engaging things put full year. need recognize think issue guidance way people conform against, know, aspirations, want see family again. want start socializing. want start traveling little bit.\"'"
            ]
          },
          "metadata": {
            "tags": []
          },
          "execution_count": 15
        }
      ]
    },
    {
      "cell_type": "code",
      "metadata": {
        "id": "P_UQ5Qil2nOs"
      },
      "source": [
        "from sklearn.preprocessing import LabelEncoder\n",
        "from tensorflow.keras.preprocessing.sequence import pad_sequences\n",
        "from tensorflow.keras.preprocessing.text import Tokenizer"
      ],
      "execution_count": 16,
      "outputs": []
    },
    {
      "cell_type": "code",
      "metadata": {
        "colab": {
          "base_uri": "https://localhost:8080/"
        },
        "id": "WtdHx7p0_pfp",
        "outputId": "785d0029-88ce-4638-82fd-3f76700387c8"
      },
      "source": [
        "df1 = df[['content','content_category']]\n",
        "le = LabelEncoder()\n",
        "df1['content_category'] = le.fit_transform(df1['content_category'])\n",
        "df1['content_category']"
      ],
      "execution_count": 17,
      "outputs": [
        {
          "output_type": "stream",
          "text": [
            "/usr/local/lib/python3.7/dist-packages/ipykernel_launcher.py:3: SettingWithCopyWarning: \n",
            "A value is trying to be set on a copy of a slice from a DataFrame.\n",
            "Try using .loc[row_indexer,col_indexer] = value instead\n",
            "\n",
            "See the caveats in the documentation: https://pandas.pydata.org/pandas-docs/stable/user_guide/indexing.html#returning-a-view-versus-a-copy\n",
            "  This is separate from the ipykernel package so we can avoid doing imports until\n"
          ],
          "name": "stderr"
        },
        {
          "output_type": "execute_result",
          "data": {
            "text/plain": [
              "0     2\n",
              "1     2\n",
              "2     2\n",
              "3     2\n",
              "4     2\n",
              "     ..\n",
              "91    1\n",
              "92    1\n",
              "93    1\n",
              "94    1\n",
              "95    1\n",
              "Name: content_category, Length: 96, dtype: int64"
            ]
          },
          "metadata": {
            "tags": []
          },
          "execution_count": 17
        }
      ]
    },
    {
      "cell_type": "code",
      "metadata": {
        "colab": {
          "base_uri": "https://localhost:8080/"
        },
        "id": "5-G4eODa_qVL",
        "outputId": "af3cd872-c98c-40b3-9dbe-428deb0ca159"
      },
      "source": [
        "le.inverse_transform([0, 1, 2, 3])"
      ],
      "execution_count": 18,
      "outputs": [
        {
          "output_type": "execute_result",
          "data": {
            "text/plain": [
              "array(['business', 'entertainment', 'politics', 'sports'], dtype=object)"
            ]
          },
          "metadata": {
            "tags": []
          },
          "execution_count": 18
        }
      ]
    },
    {
      "cell_type": "code",
      "metadata": {
        "id": "FSCfkgBEBTWP"
      },
      "source": [
        "import numpy as np"
      ],
      "execution_count": 19,
      "outputs": []
    },
    {
      "cell_type": "code",
      "metadata": {
        "colab": {
          "base_uri": "https://localhost:8080/",
          "height": 402
        },
        "id": "vgPkMEgLAnbl",
        "outputId": "e15febad-5db1-418a-d31f-84b18cfd3d2f"
      },
      "source": [
        "# Shuffle records\n",
        "df1 = df1.reindex(np.random.permutation(df1.index))\n",
        "df1"
      ],
      "execution_count": 20,
      "outputs": [
        {
          "output_type": "execute_result",
          "data": {
            "text/html": [
              "<div>\n",
              "<style scoped>\n",
              "    .dataframe tbody tr th:only-of-type {\n",
              "        vertical-align: middle;\n",
              "    }\n",
              "\n",
              "    .dataframe tbody tr th {\n",
              "        vertical-align: top;\n",
              "    }\n",
              "\n",
              "    .dataframe thead th {\n",
              "        text-align: right;\n",
              "    }\n",
              "</style>\n",
              "<table border=\"1\" class=\"dataframe\">\n",
              "  <thead>\n",
              "    <tr style=\"text-align: right;\">\n",
              "      <th></th>\n",
              "      <th>content</th>\n",
              "      <th>content_category</th>\n",
              "    </tr>\n",
              "  </thead>\n",
              "  <tbody>\n",
              "    <tr>\n",
              "      <th>87</th>\n",
              "      <td>neil warnock tipped watford join norwich premier league next season watching middlesbrough side ...</td>\n",
              "      <td>3</td>\n",
              "    </tr>\n",
              "    <tr>\n",
              "      <th>73</th>\n",
              "      <td>carbon emissions england’s planned £27bn roadbuilding programme 100 times greater government sta...</td>\n",
              "      <td>2</td>\n",
              "    </tr>\n",
              "    <tr>\n",
              "      <th>38</th>\n",
              "      <td>watch live bbc iplayer; follow live text commentary bbc sport website app.england centre emily s...</td>\n",
              "      <td>3</td>\n",
              "    </tr>\n",
              "    <tr>\n",
              "      <th>42</th>\n",
              "      <td>2015, chinese hip-hop group higher brothers learned something hard way: careful songs turn polit...</td>\n",
              "      <td>1</td>\n",
              "    </tr>\n",
              "    <tr>\n",
              "      <th>46</th>\n",
              "      <td>think \"creative genius\" parade self-portraits history art, brooding intensely unfinished canvas,...</td>\n",
              "      <td>1</td>\n",
              "    </tr>\n",
              "    <tr>\n",
              "      <th>...</th>\n",
              "      <td>...</td>\n",
              "      <td>...</td>\n",
              "    </tr>\n",
              "    <tr>\n",
              "      <th>0</th>\n",
              "      <td>washington — former food drug administration commissioner dr. scott gottlieb sunday said rise co...</td>\n",
              "      <td>2</td>\n",
              "    </tr>\n",
              "    <tr>\n",
              "      <th>94</th>\n",
              "      <td>happens year. film released, often featuring major stars shockingly large budget, mind-numbingly...</td>\n",
              "      <td>1</td>\n",
              "    </tr>\n",
              "    <tr>\n",
              "      <th>61</th>\n",
              "      <td>tendulkar tests positive infections continued surge world’s second populous country.\\nindian cri...</td>\n",
              "      <td>3</td>\n",
              "    </tr>\n",
              "    <tr>\n",
              "      <th>13</th>\n",
              "      <td>baylor gone team introductions. time top-seeded, top-ranked, 31-0 zags introduced. teammates mov...</td>\n",
              "      <td>3</td>\n",
              "    </tr>\n",
              "    <tr>\n",
              "      <th>34</th>\n",
              "      <td>however, end shielding means longer qualify statutory sick pay employment support allowance, unl...</td>\n",
              "      <td>0</td>\n",
              "    </tr>\n",
              "  </tbody>\n",
              "</table>\n",
              "<p>96 rows × 2 columns</p>\n",
              "</div>"
            ],
            "text/plain": [
              "                                                                                                content  content_category\n",
              "87  neil warnock tipped watford join norwich premier league next season watching middlesbrough side ...                 3\n",
              "73  carbon emissions england’s planned £27bn roadbuilding programme 100 times greater government sta...                 2\n",
              "38  watch live bbc iplayer; follow live text commentary bbc sport website app.england centre emily s...                 3\n",
              "42  2015, chinese hip-hop group higher brothers learned something hard way: careful songs turn polit...                 1\n",
              "46  think \"creative genius\" parade self-portraits history art, brooding intensely unfinished canvas,...                 1\n",
              "..                                                                                                  ...               ...\n",
              "0   washington — former food drug administration commissioner dr. scott gottlieb sunday said rise co...                 2\n",
              "94  happens year. film released, often featuring major stars shockingly large budget, mind-numbingly...                 1\n",
              "61  tendulkar tests positive infections continued surge world’s second populous country.\\nindian cri...                 3\n",
              "13  baylor gone team introductions. time top-seeded, top-ranked, 31-0 zags introduced. teammates mov...                 3\n",
              "34  however, end shielding means longer qualify statutory sick pay employment support allowance, unl...                 0\n",
              "\n",
              "[96 rows x 2 columns]"
            ]
          },
          "metadata": {
            "tags": []
          },
          "execution_count": 20
        }
      ]
    },
    {
      "cell_type": "code",
      "metadata": {
        "id": "JYFXN_J5BPQT"
      },
      "source": [
        "# Splitting features from the label\n",
        "text_content = df1['content'].values\n",
        "target = df1['content_category'].values"
      ],
      "execution_count": 21,
      "outputs": []
    },
    {
      "cell_type": "code",
      "metadata": {
        "id": "lOEQYQGpBiFd"
      },
      "source": [
        "tokenizer = Tokenizer(num_words=100)\n",
        "tokenizer.fit_on_texts(text_content)"
      ],
      "execution_count": 22,
      "outputs": []
    },
    {
      "cell_type": "code",
      "metadata": {
        "id": "5j3Oo2fqBuYt"
      },
      "source": [
        "#tokenizer.word_index"
      ],
      "execution_count": 23,
      "outputs": []
    },
    {
      "cell_type": "code",
      "metadata": {
        "colab": {
          "base_uri": "https://localhost:8080/"
        },
        "id": "Zje_sxIgByu_",
        "outputId": "1e4c934d-95a9-4030-ac19-4ff1a18ab900"
      },
      "source": [
        "# Integer encoding the documents\n",
        "encoded_data = tokenizer.texts_to_sequences(text_content)\n",
        "print(encoded_data[0:4])"
      ],
      "execution_count": 24,
      "outputs": [
        {
          "output_type": "stream",
          "text": [
            "[[90, 6, 91, 35, 74, 27, 40, 52, 90, 59, 22, 15, 4, 1, 79, 45, 99, 4, 51, 42, 4, 1, 24, 35, 4, 11, 29, 74, 55, 42, 42, 61, 65, 66, 42, 62, 42, 74, 51, 42, 27, 33, 3, 74, 51, 42, 74, 74, 22, 24, 4, 1, 38, 33, 38, 67, 12, 4, 42, 90, 92, 51, 19, 51, 42, 42, 19, 74, 22, 29, 35, 22, 51, 62, 42, 75, 22, 91, 42, 29, 35, 7, 11, 33, 22, 11], [32, 88, 62, 56, 32, 22, 12, 32, 12, 1, 7, 45, 28, 7, 6, 43, 42, 4, 22, 12, 1, 1, 1, 32, 31, 12, 7, 52, 4, 32, 10, 93, 61, 61, 1, 4, 1, 45, 11, 83, 19, 4, 1, 10, 53, 32, 32, 13, 24, 32, 4, 6, 83, 84, 8], [37, 8, 2, 2, 30, 2, 47, 72, 22, 41, 80, 10, 47, 2, 28, 36, 13, 38, 38, 47, 2, 35, 22, 2, 2, 2, 20, 2, 35, 46, 2, 35, 44, 7, 7, 13, 19, 99, 24, 22, 19, 75, 15, 1, 1, 36, 13, 5], [81, 65, 6, 4, 19, 19, 4, 74, 27, 45, 12, 74, 45, 17, 5, 11, 84, 4, 33, 75, 81, 76, 12, 12, 17, 5, 13, 12, 13, 12, 12, 35, 11, 13, 45, 10, 17, 5, 92, 31, 11, 12, 31, 12, 84, 6, 84, 3, 17, 5, 16, 81, 12, 11, 11, 77, 12, 12, 11, 17, 5, 12, 22, 13, 53, 47, 34, 28, 12, 3]]\n"
          ],
          "name": "stdout"
        }
      ]
    },
    {
      "cell_type": "code",
      "metadata": {
        "id": "Jt8tNQCCB3di"
      },
      "source": [
        "# Saving tokenizer file\n",
        "import pickle\n",
        "\n",
        "filename = \"tokenizer.pickle\"\n",
        "pickle.dump(tokenizer, open(filename, 'wb'))"
      ],
      "execution_count": 42,
      "outputs": []
    },
    {
      "cell_type": "code",
      "metadata": {
        "colab": {
          "base_uri": "https://localhost:8080/"
        },
        "id": "1DH_c1ZcEYWw",
        "outputId": "64f1f438-b766-49e9-bf56-7373fb7df342"
      },
      "source": [
        "#our tokenized file is saved\n",
        "!ls"
      ],
      "execution_count": 25,
      "outputs": [
        {
          "output_type": "stream",
          "text": [
            "mined_news.csv\t     newscluster_model.sav  region.py\t     terminal_colors.py\n",
            "miningnewsSpyder.py  __pycache__\t    sd_algorithm.py  tokenizer.pickle\n"
          ],
          "name": "stdout"
        }
      ]
    },
    {
      "cell_type": "code",
      "metadata": {
        "id": "_Hl8wGFXEdMW"
      },
      "source": [
        "# pad documents\n",
        "max_length = 15\n",
        "padded_data = pad_sequences(encoded_data, maxlen=max_length, padding='post')"
      ],
      "execution_count": 26,
      "outputs": []
    },
    {
      "cell_type": "code",
      "metadata": {
        "id": "DYj0nZGJFBM_"
      },
      "source": [
        "# Lets reduce dimensionality with Principal component analysis (PCA) model\n",
        "from sklearn.decomposition import PCA\n",
        "model = PCA(2)\n",
        "X_reduce = model.fit_transform(padded_data)"
      ],
      "execution_count": 27,
      "outputs": []
    },
    {
      "cell_type": "code",
      "metadata": {
        "colab": {
          "base_uri": "https://localhost:8080/",
          "height": 351
        },
        "id": "lJVtzThF5UE1",
        "outputId": "8c32b577-a2a3-42c7-af37-a8d08971150f"
      },
      "source": [
        "from sklearn.cluster import KMeans\n",
        "from sklearn.metrics import accuracy_score\n",
        "import pickle\n",
        "import matplotlib.pyplot as plt\n",
        "import seaborn as sns\n",
        "\n",
        "kmeans = KMeans(n_clusters=4, random_state=0)\n",
        "X_ = kmeans.fit_transform(X_reduce)\n",
        "label = kmeans.predict(X_reduce)\n",
        "\n",
        "# Evaluating the accuracy of the model\n",
        "score = accuracy_score(label, target)\n",
        "plt.title(\"Clustering newspapers\")\n",
        "sns.scatterplot(X_[:, 0], X_[:, 1], hue=label, palette=['green','brown','orange','blue'],legend='full')"
      ],
      "execution_count": 28,
      "outputs": [
        {
          "output_type": "stream",
          "text": [
            "/usr/local/lib/python3.7/dist-packages/seaborn/_decorators.py:43: FutureWarning: Pass the following variables as keyword args: x, y. From version 0.12, the only valid positional argument will be `data`, and passing other arguments without an explicit keyword will result in an error or misinterpretation.\n",
            "  FutureWarning\n"
          ],
          "name": "stderr"
        },
        {
          "output_type": "execute_result",
          "data": {
            "text/plain": [
              "<matplotlib.axes._subplots.AxesSubplot at 0x7fec95c60590>"
            ]
          },
          "metadata": {
            "tags": []
          },
          "execution_count": 28
        },
        {
          "output_type": "display_data",
          "data": {
            "image/png": "[encoded data removed]",
            "text/plain": [
              "<Figure size 432x288 with 1 Axes>"
            ]
          },
          "metadata": {
            "tags": [],
            "needs_background": "light"
          }
        }
      ]
    },
    {
      "cell_type": "code",
      "metadata": {
        "colab": {
          "base_uri": "https://localhost:8080/"
        },
        "id": "mqM-doCjIQVY",
        "outputId": "e5c9349b-e925-40ec-8b62-d23bd45c090e"
      },
      "source": [
        "# print the accuracy of the model\n",
        "print(\"k-means Model Accuracy: %.2f%%\" % (score*100))"
      ],
      "execution_count": 29,
      "outputs": [
        {
          "output_type": "stream",
          "text": [
            "k-means Model Accuracy: 33.33%\n"
          ],
          "name": "stdout"
        }
      ]
    },
    {
      "cell_type": "code",
      "metadata": {
        "id": "J-D_CnCfWczh"
      },
      "source": [
        "# Lets save the model\n",
        "import pickle\n",
        "filename = \"newscluster_model.sav\"\n",
        "pickle.dump(kmeans, open(filename, 'wb'))"
      ],
      "execution_count": 32,
      "outputs": []
    },
    {
      "cell_type": "code",
      "metadata": {
        "id": "SZ__dqZ8UEw4"
      },
      "source": [
        "# Lets Load the model to test it\n",
        "pickle_in = open(\"newscluster_model.sav\", \"rb\")\n",
        "model = pickle.load(pickle_in)"
      ],
      "execution_count": 33,
      "outputs": []
    },
    {
      "cell_type": "code",
      "metadata": {
        "colab": {
          "base_uri": "https://localhost:8080/"
        },
        "id": "wIoUHDyhcdCk",
        "outputId": "3ad15917-1937-437f-bef6-7073d4e8492b"
      },
      "source": [
        "content = df['content'][2]\n",
        "content = clean_content(content)\n",
        "encoded_text = tokenizer.texts_to_sequences([content])\n",
        "max_length = 2\n",
        "padded_text = pad_sequences(encoded_text, maxlen=max_length, padding='post')\n",
        "y_pred = model.predict(padded_text)\n",
        "print(y_pred)"
      ],
      "execution_count": 34,
      "outputs": [
        {
          "output_type": "stream",
          "text": [
            "[3]\n"
          ],
          "name": "stdout"
        },
        {
          "output_type": "stream",
          "text": [
            "/usr/local/lib/python3.7/dist-packages/ipykernel_launcher.py:4: DeprecationWarning: The unescape method is deprecated and will be removed in 3.5, use html.unescape() instead.\n",
            "  after removing the cwd from sys.path.\n"
          ],
          "name": "stderr"
        }
      ]
    },
    {
      "cell_type": "markdown",
      "metadata": {
        "id": "llp0U-pC6iIW"
      },
      "source": [
        "We were able to predict the label where the article belongs and that is what we want.\n",
        "\n",
        "Lets create a web link to use our model online."
      ]
    },
    {
      "cell_type": "code",
      "metadata": {
        "colab": {
          "base_uri": "https://localhost:8080/"
        },
        "id": "IFgfD7pycfsl",
        "outputId": "c13c7645-3f0d-4120-9f91-5d6fe51477d6"
      },
      "source": [
        "!wget https://bin.equinox.io/c/4VmDzA7iaHb/ngrok-stable-linux-amd64.zip"
      ],
      "execution_count": 35,
      "outputs": [
        {
          "output_type": "stream",
          "text": [
            "--2021-04-08 05:24:43--  https://bin.equinox.io/c/4VmDzA7iaHb/ngrok-stable-linux-amd64.zip\n",
            "Resolving bin.equinox.io (bin.equinox.io)... 3.217.26.81, 3.211.152.205, 34.192.46.56, ...\n",
            "Connecting to bin.equinox.io (bin.equinox.io)|3.217.26.81|:443... connected.\n",
            "HTTP request sent, awaiting response... 200 OK\n",
            "Length: 14746350 (14M) [application/octet-stream]\n",
            "Saving to: ‘ngrok-stable-linux-amd64.zip’\n",
            "\n",
            "ngrok-stable-linux- 100%[===================>]  14.06M  6.05MB/s    in 2.3s    \n",
            "\n",
            "2021-04-08 05:24:46 (6.05 MB/s) - ‘ngrok-stable-linux-amd64.zip’ saved [14746350/14746350]\n",
            "\n"
          ],
          "name": "stdout"
        }
      ]
    },
    {
      "cell_type": "markdown",
      "metadata": {
        "id": "F_-4eoQM8Ucw"
      },
      "source": [
        "Installing NGrok to host the model"
      ]
    },
    {
      "cell_type": "code",
      "metadata": {
        "colab": {
          "base_uri": "https://localhost:8080/"
        },
        "id": "kybCJj9Ec_ei",
        "outputId": "af3b87a6-7621-4692-c8f8-e1de6e254a4f"
      },
      "source": [
        "!unzip ngrok-stable-linux-amd64.zip"
      ],
      "execution_count": 37,
      "outputs": [
        {
          "output_type": "stream",
          "text": [
            "Archive:  ngrok-stable-linux-amd64.zip\n",
            "replace ngrok? [y]es, [n]o, [A]ll, [N]one, [r]ename: y\n",
            "  inflating: ngrok                   \n"
          ],
          "name": "stdout"
        }
      ]
    },
    {
      "cell_type": "code",
      "metadata": {
        "id": "yRDQol_T8RSN"
      },
      "source": [
        "!pip install -q pyngrok\n",
        "!pip install -q streamlit\n",
        "!pip install -q streamlit_ace"
      ],
      "execution_count": 38,
      "outputs": []
    },
    {
      "cell_type": "code",
      "metadata": {
        "id": "-gfcG-RJ8131"
      },
      "source": [
        "get_ipython().system_raw('./ngrok http 8501 &')"
      ],
      "execution_count": 39,
      "outputs": []
    },
    {
      "cell_type": "code",
      "metadata": {
        "colab": {
          "base_uri": "https://localhost:8080/"
        },
        "id": "7H2-VgqZ9DzM",
        "outputId": "662b012f-4aaa-4d1d-ec53-816e4154b9dc"
      },
      "source": [
        "!curl -s http://localhost:4040/api/tunnels | python3 -c \\\n",
        "    'import sys, json; print(\"Execute the next cell and the go to the following URL: \" +json.load(sys.stdin)[\"tunnels\"][0][\"public_url\"])'"
      ],
      "execution_count": 41,
      "outputs": [
        {
          "output_type": "stream",
          "text": [
            "Execute the next cell and the go to the following URL: https://bc783d30cd1e.ngrok.io\n"
          ],
          "name": "stdout"
        }
      ]
    },
    {
      "cell_type": "code",
      "metadata": {
        "id": "1nb6TVIA9PlF"
      },
      "source": [
        "%%writefile app.py\n",
        "\n",
        "import streamlit as st\n",
        "import pandas as pd\n",
        "import re\n",
        "import string\n",
        "from html.parser import HTMLParser\n",
        "from nltk.corpus import stopwords\n",
        "from tensorflow.keras.preprocessing.sequence import pad_sequences\n",
        "import pickle\n",
        "import nltk\n",
        "import sd_algorithm\n",
        "\n",
        "df = pd.read_csv(\"mined_news.csv\")\n",
        "\n",
        "sd = sd_algorithm.SDAlgorithm()\n",
        "\n",
        "# Loading the model\n",
        "pickle_in = open(\"newscluster_model.sav\", \"rb\")\n",
        "model = pickle.load(pickle_in)\n",
        "\n",
        "# Loading the tokenizer\n",
        "pickle_n = open(\"tokenizer.pickle\", \"rb\")\n",
        "tokenizer = pickle.load(pickle_n)\n",
        "\n",
        "# Get news content from url\n",
        "def website_content(url):\n",
        "    sd.url = url\n",
        "    content = sd.analyze_page()\n",
        "    return content\n",
        "\n",
        "def list_to_String(content): \n",
        "    strings = \" \"   \n",
        "    return (strings.join(content))\n",
        "\n",
        "# Function to clean texts\n",
        "def clean_content(content):\n",
        "  # Removing html characters\n",
        "  content = HTMLParser().unescape(content)\n",
        "  content = content.lower()\n",
        "  \n",
        "  # clean by removing urls and hashtags\n",
        "  content = re.sub(r'https?:\\/\\/.\\S+', \"\", content)\n",
        "  content = re.sub(r'#', '', content)\n",
        "  content = re.sub(r'^RT[\\s]+', '', content)\n",
        "\n",
        "  content_tokens = content.split()\n",
        "  content_list=[]\n",
        "  for word in content_tokens:\n",
        "    if word not in stopwords_eng:\n",
        "      content_list.append(word)\n",
        "\n",
        "  # Remove punctuations\n",
        "  clean_content = []\n",
        "  for word in content_list:\n",
        "    if word not in string.punctuation:\n",
        "      clean_content.append(word)\n",
        "\n",
        "  return clean_content\n",
        "\n",
        "def predict_news(url):\n",
        "    content = website_content(url)\n",
        "    content = clean_content(listToString(content[3]))\n",
        "    encoded_text = tokenizer.texts_to_sequences([content])\n",
        "    max_length = 2\n",
        "    padded_text = pad_sequences(encoded_text, maxlen=max_length, padding='post')\n",
        "    y_pred = model.predict(padded_text)\n",
        "    return y_pred\n",
        "\n",
        "\n",
        "st.title(\"Model For News Category\")\n",
        "html_temp = \"\"\"\n",
        "<div style=\"background-color:black;padding:10px\">\n",
        "<h3 style=\"color:white;\">Insert the link to the article, and I'll do the rest of the magic..</h3>\n",
        "</div>\n",
        "\"\"\"\n",
        "st.markdown(html_temp, unsafe_allow_html=True)\n",
        "\n",
        "result = \"\"\n",
        "categori = \"\"\n",
        "related = []\n",
        "url = st.text_input(\"Fill in the field below\", \"\")\n",
        "\n",
        "if st.button(\"Classify News\"):\n",
        "    result = predict_news(url)\n",
        "    if result == [0]:\n",
        "        categori = 'Business'\n",
        "        related = df[df['category']=='business'][\"url\"]\n",
        "    elif result == [1]:\n",
        "        categori = 'Entertainment'\n",
        "        related = df[df['category']=='entertainment'][\"url\"]\n",
        "    elif result == [2]:\n",
        "        categori = 'Politics'\n",
        "        related = df[df['category']=='politics'][\"url\"]\n",
        "    elif result == [3]:\n",
        "        categori = 'Sports'\n",
        "        related = df[df['category']=='sports'][\"url\"]\n",
        "st.success('The article category prediction is: {}'.format(categori))\n",
        "\n",
        "# front end elements of the web page \n",
        "html_temp = \"\"\" \n",
        "<div style =\"background-color:black;padding:10px\"> \n",
        "<h1 style =\"color:white;\">Articles that are related</h1> \n",
        "</div> \n",
        "\"\"\" \n",
        "st.markdown(html_temp, unsafe_allow_html=True)\n",
        "st.write(related)"
      ],
      "execution_count": null,
      "outputs": []
    },
    {
      "cell_type": "code",
      "metadata": {
        "colab": {
          "base_uri": "https://localhost:8080/",
          "height": 162
        },
        "id": "Lev6LwlODxC0",
        "outputId": "1d6fb6ec-87da-45cf-d9d9-2c497675ca83"
      },
      "source": [
        "!streamlit run app.py &>/dev/null&"
      ],
      "execution_count": 42,
      "outputs": [
        {
          "output_type": "error",
          "ename": "NameError",
          "evalue": "ignored",
          "traceback": [
            "\u001b[0;31m---------------------------------------------------------------------------\u001b[0m",
            "\u001b[0;31mNameError\u001b[0m                                 Traceback (most recent call last)",
            "\u001b[0;32m<ipython-input-42-6f3b2ad954ab>\u001b[0m in \u001b[0;36m<module>\u001b[0;34m()\u001b[0m\n\u001b[0;32m----> 1\u001b[0;31m \u001b[0mcate\u001b[0m\u001b[0;34m\u001b[0m\u001b[0;34m\u001b[0m\u001b[0m\n\u001b[0m",
            "\u001b[0;31mNameError\u001b[0m: name 'cate' is not defined"
          ]
        }
      ]
    },
    {
      "cell_type": "code",
      "metadata": {
        "id": "TUAsHS8tDyf7"
      },
      "source": [
        "from pyngrok import ngrok\n",
        " \n",
        "public_url = ngrok.connect('8501')\n",
        "public_url"
      ],
      "execution_count": null,
      "outputs": []
    }
  ]
}